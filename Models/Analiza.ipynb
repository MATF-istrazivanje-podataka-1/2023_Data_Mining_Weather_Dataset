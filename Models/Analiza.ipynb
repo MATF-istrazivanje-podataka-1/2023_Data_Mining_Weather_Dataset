{
 "cells": [
  {
   "cell_type": "code",
   "execution_count": null,
   "id": "e330c67e",
   "metadata": {},
   "outputs": [],
   "source": [
    "import pandas as pd\n",
    "import matplotlib.pyplot as plt\n",
    "import seaborn as sns\n",
    "import numpy as np\n",
    "from sklearn.model_selection import train_test_split\n",
    "import category_encoders as ce\n"
   ]
  },
  {
   "cell_type": "code",
   "execution_count": null,
   "id": "45e008a0",
   "metadata": {},
   "outputs": [],
   "source": [
    "df = pd.read_csv('../dataset/weatherAUS.csv')"
   ]
  },
  {
   "cell_type": "code",
   "execution_count": null,
   "id": "ea974bec",
   "metadata": {},
   "outputs": [],
   "source": [
    "print('Broj redova: {}'.format(df.shape[0]))\n",
    "print('Broj kolona:{}'.format(df.shape[1]))"
   ]
  },
  {
   "cell_type": "code",
   "execution_count": null,
   "id": "fa4d3b54",
   "metadata": {},
   "outputs": [],
   "source": [
    "df.describe(include='all')"
   ]
  },
  {
   "cell_type": "code",
   "execution_count": null,
   "id": "e36edf9a",
   "metadata": {},
   "outputs": [],
   "source": [
    "print(df['Date'].min())\n",
    "print(df['Date'].max())\n",
    "print(df.columns)"
   ]
  },
  {
   "cell_type": "code",
   "execution_count": null,
   "id": "073a194c",
   "metadata": {},
   "outputs": [],
   "source": [
    "kategoricki = [col for col in df.columns if df[col].dtype==\"object\" ]\n",
    "numericki = [col for col in df.columns if df[col].dtype!=\"object\" ]\n",
    "\n",
    "print(\"{} kategorickih :\".format(len(kategoricki)))\n",
    "print(kategoricki)\n",
    "\n",
    "print(\"\\n{} numerickih :\".format(len(numericki)))\n",
    "print(numericki)\n"
   ]
  },
  {
   "cell_type": "markdown",
   "id": "00400e16",
   "metadata": {},
   "source": [
    "Nedostajuce vrednosti"
   ]
  },
  {
   "cell_type": "code",
   "execution_count": null,
   "id": "0d35ba43",
   "metadata": {},
   "outputs": [],
   "source": [
    "nv=pd.concat([df.isnull().sum(), 100 * df.isnull().sum()/df.shape[0]],axis=1).rename(columns={0:'Missing_Records', 1:'Percentage (%)'})\n",
    "print(nv[nv.Missing_Records>0].sort_values('Missing_Records', ascending=False))\n",
    "pl = plt.pie(nv[nv.Missing_Records>0]['Missing_Records'],labels = nv[nv.Missing_Records>0].axes[0],radius=2.5,labeldistance=1.2)\n",
    "\n",
    "#plt.pie(df.isnull().sum())\n"
   ]
  },
  {
   "cell_type": "code",
   "execution_count": null,
   "id": "41dd689b",
   "metadata": {},
   "outputs": [],
   "source": [
    "print(\"{} nedostajucih vrednosti za cilj\".format(df['RainTomorrow'].isnull().sum()))"
   ]
  },
  {
   "cell_type": "code",
   "execution_count": null,
   "id": "9eab7d10",
   "metadata": {},
   "outputs": [],
   "source": [
    "df = df[df['RainTomorrow'].notna()]\n",
    "df.shape"
   ]
  },
  {
   "cell_type": "code",
   "execution_count": null,
   "id": "38f0ba8e",
   "metadata": {},
   "outputs": [],
   "source": [
    "df['RainTomorrow'].hist(xlabelsize=15,bins=3,legend=True)\n"
   ]
  },
  {
   "cell_type": "markdown",
   "id": "75f87c05",
   "metadata": {},
   "source": [
    "Vidimo da nije ravnomerno rasporedjeno. Balansiranje cemo se baviti u sklopu algoritama za klasifikaciju"
   ]
  },
  {
   "cell_type": "code",
   "execution_count": null,
   "id": "3507f3e1",
   "metadata": {},
   "outputs": [],
   "source": [
    "sns.heatmap(df.isnull())"
   ]
  },
  {
   "cell_type": "markdown",
   "id": "dafe7e44",
   "metadata": {},
   "source": [
    "Najvise nedostajucih vrednosti u Evaporation, Sunshine, Cloud9am and Cloud3pm. Ne mozemo da izbacimo redove koji sadrze nepoznate vrednosti.\n"
   ]
  },
  {
   "cell_type": "code",
   "execution_count": null,
   "id": "a6a2c5f8",
   "metadata": {},
   "outputs": [],
   "source": [
    "print(df['Evaporation'].mean())\n",
    "print(df['Sunshine'].mean())\n",
    "print(df['Cloud3pm'].mean())\n",
    "print(df['Cloud9am'].mean())"
   ]
  },
  {
   "cell_type": "code",
   "execution_count": null,
   "id": "63a0cdbb",
   "metadata": {},
   "outputs": [],
   "source": [
    "plt.figure(figsize=(10,6))\n",
    "sns.heatmap(df.corr(),cmap='RdYlGn', annot=True)\n"
   ]
  },
  {
   "cell_type": "code",
   "execution_count": null,
   "id": "1221108c",
   "metadata": {},
   "outputs": [],
   "source": [
    "def max_corr(column):\n",
    "    print('Srednja vrednost pre dodavanja nepoznatih vrednosti {}'.format(df[column].mean()))\n",
    "    index = df.corr().columns.get_loc(column)\n",
    "    print(index)\n",
    "    n = len(df.corr())\n",
    "    corr = []\n",
    "    max_corr = 0\n",
    "    index_max = -1\n",
    "    for i in range(n):\n",
    "        if i == index:\n",
    "            continue\n",
    "        curr_corr = abs(df.corr().iloc[[index]].iloc[[0],[i]].max()[0])\n",
    "        \n",
    "        corr.append((curr_corr,i))\n",
    "        \n",
    "    corr.sort(reverse=True)\n",
    "    max_cor = [corr[0][0],corr[1][0],corr[2][0]]\n",
    "    attributes = [df.corr().columns[corr[0][1]],df.corr().columns[corr[1][1]],df.corr().columns[corr[2][1]]]\n",
    "    print('Najvece korelacije {}'.format(max_cor))\n",
    "    print('Atributi: {}'.format(attributes))\n",
    "    print(\"Histogram pre dodavanja vrednosti:\")\n",
    "    plt.hist(df[column])\n",
    "    return attributes\n"
   ]
  },
  {
   "cell_type": "markdown",
   "id": "88ae8f6d",
   "metadata": {},
   "source": [
    "Evaporation"
   ]
  },
  {
   "cell_type": "code",
   "execution_count": null,
   "id": "694bb2bb",
   "metadata": {
    "scrolled": true
   },
   "outputs": [],
   "source": [
    "atr = max_corr('Evaporation')\n"
   ]
  },
  {
   "cell_type": "markdown",
   "id": "29beb6ce",
   "metadata": {},
   "source": [
    "     Vidimo da ima najvecu korelaciju sa atributima MaxTemp,Temp3pm i Temp9am"
   ]
  },
  {
   "cell_type": "code",
   "execution_count": null,
   "id": "a41c1f78",
   "metadata": {},
   "outputs": [],
   "source": [
    "print(df['Evaporation'].ffill().mean())\n",
    "mean =df.sort_values(by=\"MaxTemp\")[\"Evaporation\"].backfill().mean()\n",
    "print(mean)\n",
    "mean =df.sort_values(by=atr)[\"Evaporation\"].backfill().mean()\n",
    "print(mean)\n",
    "df = df.sort_values(by=atr)\n",
    "df[\"Evaporation\"] = df[\"Evaporation\"].backfill()\n",
    "print(\"Histogram posle dodavanja vrednosti:\")\n",
    "plt.hist(df['Evaporation'])\n"
   ]
  },
  {
   "cell_type": "markdown",
   "id": "620f5179",
   "metadata": {},
   "source": [
    "Sunshine"
   ]
  },
  {
   "cell_type": "code",
   "execution_count": null,
   "id": "b8ac5e2d",
   "metadata": {},
   "outputs": [],
   "source": [
    "atr = max_corr('Sunshine')\n"
   ]
  },
  {
   "cell_type": "markdown",
   "id": "adb46d4c",
   "metadata": {},
   "source": [
    "Vidimo da ima najvecu korelaciju sa atributom Cloud3pm, CLoud9am, Humidity3pm"
   ]
  },
  {
   "cell_type": "code",
   "execution_count": null,
   "id": "20baf54b",
   "metadata": {},
   "outputs": [],
   "source": [
    "print(df['Sunshine'].ffill().mean())\n",
    "mean =df.sort_values(by=atr)[\"Sunshine\"].backfill().mean()\n",
    "print(mean)\n",
    "df = df.sort_values(by=atr)\n",
    "df[\"Sunshine\"] = df[\"Sunshine\"].backfill()\n",
    "print(\"Histogram posle dodavanja vrednosti:\")\n",
    "plt.hist(df['Sunshine'])"
   ]
  },
  {
   "cell_type": "markdown",
   "id": "9a5761b1",
   "metadata": {},
   "source": [
    "Cloud9am"
   ]
  },
  {
   "cell_type": "code",
   "execution_count": null,
   "id": "78dd561c",
   "metadata": {},
   "outputs": [],
   "source": [
    "atr = max_corr('Cloud9am')"
   ]
  },
  {
   "cell_type": "code",
   "execution_count": null,
   "id": "cf452fd4",
   "metadata": {},
   "outputs": [],
   "source": [
    "print(df['Cloud9am'].ffill().mean())\n",
    "mean =df.sort_values(by=atr)[\"Cloud9am\"].backfill().mean()\n",
    "print(mean)\n",
    "df = df.sort_values(by=atr)\n",
    "df[\"Cloud9am\"] = df[\"Cloud9am\"].backfill()\n",
    "print(\"Histogram posle dodavanja vrednosti:\")\n",
    "plt.hist(df['Cloud9am'])"
   ]
  },
  {
   "cell_type": "markdown",
   "id": "97b8279a",
   "metadata": {},
   "source": [
    "Cloud3pm"
   ]
  },
  {
   "cell_type": "code",
   "execution_count": null,
   "id": "b2bdded1",
   "metadata": {},
   "outputs": [],
   "source": [
    "atr = max_corr('Cloud3pm')"
   ]
  },
  {
   "cell_type": "code",
   "execution_count": null,
   "id": "038ef6bc",
   "metadata": {},
   "outputs": [],
   "source": [
    "print(df['Cloud3pm'].ffill().mean())\n",
    "mean =df.sort_values(by=atr)[\"Cloud3pm\"].backfill().mean()\n",
    "print(mean)\n",
    "df = df.sort_values(by=atr)\n",
    "df[\"Cloud3pm\"] = df[\"Cloud3pm\"].backfill()\n",
    "print(\"Histogram posle dodavanja vrednosti:\")\n",
    "plt.hist(df['Cloud3pm'])"
   ]
  },
  {
   "cell_type": "code",
   "execution_count": null,
   "id": "a0660a02",
   "metadata": {},
   "outputs": [],
   "source": [
    "sns.heatmap(df.isnull())"
   ]
  },
  {
   "cell_type": "code",
   "execution_count": null,
   "id": "aa9a0a29",
   "metadata": {},
   "outputs": [],
   "source": [
    "df.isna().sum()"
   ]
  },
  {
   "cell_type": "code",
   "execution_count": null,
   "id": "182c0f46",
   "metadata": {},
   "outputs": [],
   "source": [
    "sns.heatmap(df.isnull())"
   ]
  },
  {
   "cell_type": "code",
   "execution_count": null,
   "id": "b499ca0e",
   "metadata": {},
   "outputs": [],
   "source": [
    "for i in range(len(df.corr())):\n",
    "    name = df.corr().columns[i]\n",
    "    df[name] = df[name].fillna(df[name].mean())"
   ]
  },
  {
   "cell_type": "code",
   "execution_count": null,
   "id": "b86e8125",
   "metadata": {},
   "outputs": [],
   "source": [
    "sns.heatmap(df.isnull())"
   ]
  },
  {
   "cell_type": "markdown",
   "id": "47df19ae",
   "metadata": {},
   "source": [
    "Kategoricki atributi.\n",
    "Nedostajuce vrednosti cemo zameniti najcescim pojavljivanjem "
   ]
  },
  {
   "cell_type": "code",
   "execution_count": null,
   "id": "d48bb203",
   "metadata": {},
   "outputs": [],
   "source": [
    "category_columns = [col for col in df.columns if df[col].dtype==\"object\" ]\n",
    "for col in category_columns:\n",
    "     df[col].fillna(df[col].mode()[0], inplace=True)\n",
    "        "
   ]
  },
  {
   "cell_type": "code",
   "execution_count": null,
   "id": "81a3946f",
   "metadata": {},
   "outputs": [],
   "source": [
    "df.isnull().sum()"
   ]
  },
  {
   "cell_type": "code",
   "execution_count": null,
   "id": "229d91d3",
   "metadata": {},
   "outputs": [],
   "source": [
    "sns.heatmap(df.isnull())"
   ]
  },
  {
   "cell_type": "code",
   "execution_count": null,
   "id": "870cdf2b",
   "metadata": {},
   "outputs": [],
   "source": [
    "df.shape"
   ]
  },
  {
   "cell_type": "markdown",
   "id": "9259dd6f",
   "metadata": {},
   "source": [
    "Enkodiranje"
   ]
  },
  {
   "cell_type": "code",
   "execution_count": null,
   "id": "e7d7c33b",
   "metadata": {},
   "outputs": [],
   "source": [
    "df['Date']= pd.to_datetime(df['Date']) \n",
    "df['Year'] = df['Date'].dt.year\n",
    "df['Month'] = df['Date'].dt.month\n",
    "df['Day'] = df['Date'].dt.day\n",
    "\n",
    "\n",
    "\n",
    "#Dropping the date column\n",
    "df.drop('Date', axis=1, inplace = True)\n",
    "\n",
    "df.replace('Yes',1, inplace=True)\n",
    "df.replace('No', 0, inplace=True)\n"
   ]
  },
  {
   "cell_type": "code",
   "execution_count": null,
   "id": "4245a694",
   "metadata": {},
   "outputs": [],
   "source": [
    "df.describe()"
   ]
  },
  {
   "cell_type": "code",
   "execution_count": null,
   "id": "4b6e05e2",
   "metadata": {},
   "outputs": [],
   "source": [
    "print(df['WindDir3pm'].unique())\n",
    "print(df['WindDir9am'].unique())\n",
    "print(df['WindGustDir'].unique())\n",
    "print(df['Location'].unique())"
   ]
  },
  {
   "cell_type": "code",
   "execution_count": null,
   "id": "ff6e6d6d",
   "metadata": {},
   "outputs": [],
   "source": [
    "mapping = {'N':1, 'NNE':2, 'NE':3,'ENE':4, 'E':5,'ESE':6,'SE':7,'SSE':8, 'S':9,'SSW':10,'SW':11,'WSW':12,'W':13,'WNW':14,\n",
    "          'W':15,'WNW':16,'NW':17,'NNW':18}\n",
    "\n",
    "df['WindDir3pm'] =df['WindDir3pm'].map(mapping)\n",
    "df['WindDir9am'] = df['WindDir9am'].map(mapping)\n",
    "df['WindGustDir'] =df['WindGustDir'].map(mapping)\n",
    "\n",
    "print(df['WindDir3pm'].unique())\n",
    "print(df['WindDir9am'].unique())\n",
    "print(df['WindGustDir'].unique())\n",
    "print(df['Location'].unique())\n",
    "\n",
    "feature_names = df.columns\n",
    "df.shape"
   ]
  },
  {
   "cell_type": "code",
   "execution_count": null,
   "id": "017b54d9",
   "metadata": {},
   "outputs": [],
   "source": [
    "encoder = ce.TargetEncoder(cols=['Location'])\n",
    "data_encoded = encoder.fit_transform(df['Location'],df['RainToday'])\n",
    "df['Location'] = data_encoded"
   ]
  },
  {
   "cell_type": "code",
   "execution_count": null,
   "id": "8c4a3f77",
   "metadata": {},
   "outputs": [],
   "source": [
    "print(df['Location'].unique())\n"
   ]
  },
  {
   "cell_type": "markdown",
   "id": "c1792079",
   "metadata": {},
   "source": [
    "#moguce preprilagodjavanje"
   ]
  },
  {
   "cell_type": "code",
   "execution_count": null,
   "id": "475023a8",
   "metadata": {},
   "outputs": [],
   "source": [
    "df.drop('Day', axis=1,inplace=True)\n",
    "df.drop('Year',axis=1,inplace=True)"
   ]
  },
  {
   "cell_type": "code",
   "execution_count": null,
   "id": "148e7e6a",
   "metadata": {},
   "outputs": [],
   "source": [
    "plt.figure(figsize=(12,8))\n",
    "sns.heatmap(df.corr(),cmap='RdYlGn', annot=True)\n"
   ]
  },
  {
   "cell_type": "markdown",
   "id": "47c8b273",
   "metadata": {},
   "source": [
    "Feature selection.\n",
    "Izbacujemo atribure koji imaju veliku medjusobnu korelaciju"
   ]
  },
  {
   "cell_type": "code",
   "execution_count": null,
   "id": "db13af97",
   "metadata": {},
   "outputs": [],
   "source": [
    "threshold = 0.70\n",
    "corr_matrix = df.corr().abs()\n",
    "upper = corr_matrix.where(np.triu(np.ones(corr_matrix.shape), k=1).astype(bool))\n",
    "to_drop = [column for column in upper.columns if any(upper[column] > threshold)]\n",
    "df = df.drop(df[to_drop], axis=1)"
   ]
  },
  {
   "cell_type": "code",
   "execution_count": null,
   "id": "78ea6d69",
   "metadata": {},
   "outputs": [],
   "source": [
    "print(df.shape)\n",
    "df.columns"
   ]
  },
  {
   "cell_type": "code",
   "execution_count": null,
   "id": "f206c94d",
   "metadata": {},
   "outputs": [],
   "source": [
    "df.to_csv(\"../dataset/weatherClean.csv\",index=False)"
   ]
  },
  {
   "cell_type": "code",
   "execution_count": null,
   "id": "97d33342",
   "metadata": {},
   "outputs": [],
   "source": []
  },
  {
   "cell_type": "code",
   "execution_count": null,
   "id": "811710ce",
   "metadata": {},
   "outputs": [],
   "source": []
  }
 ],
 "metadata": {
  "kernelspec": {
   "display_name": "Python 3 (ipykernel)",
   "language": "python",
   "name": "python3"
  },
  "language_info": {
   "codemirror_mode": {
    "name": "ipython",
    "version": 3
   },
   "file_extension": ".py",
   "mimetype": "text/x-python",
   "name": "python",
   "nbconvert_exporter": "python",
   "pygments_lexer": "ipython3",
   "version": "3.8.10"
  }
 },
 "nbformat": 4,
 "nbformat_minor": 5
}
