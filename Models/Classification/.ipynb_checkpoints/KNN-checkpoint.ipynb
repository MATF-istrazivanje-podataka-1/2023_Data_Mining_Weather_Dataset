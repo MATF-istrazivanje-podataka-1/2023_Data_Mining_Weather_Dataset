{
 "cells": [
  {
   "cell_type": "code",
   "execution_count": 1,
   "id": "79c4cef3",
   "metadata": {},
   "outputs": [],
   "source": [
    "import pandas as pd\n",
    "from matplotlib import pyplot as plt\n",
    "from sklearn.model_selection import train_test_split\n",
    "from sklearn.metrics import confusion_matrix\n",
    "import numpy as np\n",
    "from sklearn.preprocessing import MinMaxScaler,StandardScaler\n",
    "from sklearn.metrics import classification_report\n",
    "from termcolor import colored\n",
    "from sklearn.neighbors import KNeighborsClassifier \n",
    "from sklearn.model_selection import GridSearchCV\n",
    "import seaborn as sns\n",
    "from sklearn.metrics import precision_score, recall_score, accuracy_score, f1_score\n",
    "\n",
    "from imblearn.over_sampling import SMOTE\n",
    "from imblearn.under_sampling import RandomUnderSampler\n",
    "\n",
    "from sklearn.decomposition import PCA\n",
    "from sklearn.neighbors import KNeighborsClassifier\n",
    "import joblib\n",
    "\n"
   ]
  },
  {
   "cell_type": "code",
   "execution_count": 2,
   "id": "7d30825e",
   "metadata": {},
   "outputs": [],
   "source": [
    "df = pd.read_csv('../../dataset/weatherClean.csv')"
   ]
  },
  {
   "cell_type": "code",
   "execution_count": 3,
   "id": "a39ddb38",
   "metadata": {},
   "outputs": [
    {
     "data": {
      "text/html": [
       "<div>\n",
       "<style scoped>\n",
       "    .dataframe tbody tr th:only-of-type {\n",
       "        vertical-align: middle;\n",
       "    }\n",
       "\n",
       "    .dataframe tbody tr th {\n",
       "        vertical-align: top;\n",
       "    }\n",
       "\n",
       "    .dataframe thead th {\n",
       "        text-align: right;\n",
       "    }\n",
       "</style>\n",
       "<table border=\"1\" class=\"dataframe\">\n",
       "  <thead>\n",
       "    <tr style=\"text-align: right;\">\n",
       "      <th></th>\n",
       "      <th>Location</th>\n",
       "      <th>MinTemp</th>\n",
       "      <th>Rainfall</th>\n",
       "      <th>Evaporation</th>\n",
       "      <th>Sunshine</th>\n",
       "      <th>WindGustDir</th>\n",
       "      <th>WindGustSpeed</th>\n",
       "      <th>WindDir9am</th>\n",
       "      <th>WindDir3pm</th>\n",
       "      <th>WindSpeed9am</th>\n",
       "      <th>WindSpeed3pm</th>\n",
       "      <th>Humidity9am</th>\n",
       "      <th>Humidity3pm</th>\n",
       "      <th>Pressure9am</th>\n",
       "      <th>Cloud9am</th>\n",
       "      <th>Cloud3pm</th>\n",
       "      <th>RainToday</th>\n",
       "      <th>RainTomorrow</th>\n",
       "      <th>Month</th>\n",
       "    </tr>\n",
       "  </thead>\n",
       "  <tbody>\n",
       "    <tr>\n",
       "      <th>count</th>\n",
       "      <td>142193.000000</td>\n",
       "      <td>142193.000000</td>\n",
       "      <td>142193.000000</td>\n",
       "      <td>142193.000000</td>\n",
       "      <td>142193.000000</td>\n",
       "      <td>142193.000000</td>\n",
       "      <td>142193.000000</td>\n",
       "      <td>142193.000000</td>\n",
       "      <td>142193.000000</td>\n",
       "      <td>142193.000000</td>\n",
       "      <td>142193.000000</td>\n",
       "      <td>142193.000000</td>\n",
       "      <td>142193.000000</td>\n",
       "      <td>142193.000000</td>\n",
       "      <td>142193.000000</td>\n",
       "      <td>142193.000000</td>\n",
       "      <td>142193.000000</td>\n",
       "      <td>142193.000000</td>\n",
       "      <td>142193.000000</td>\n",
       "    </tr>\n",
       "    <tr>\n",
       "      <th>mean</th>\n",
       "      <td>0.221213</td>\n",
       "      <td>12.186400</td>\n",
       "      <td>2.349974</td>\n",
       "      <td>5.302343</td>\n",
       "      <td>7.377594</td>\n",
       "      <td>9.433756</td>\n",
       "      <td>39.984292</td>\n",
       "      <td>8.202239</td>\n",
       "      <td>9.092649</td>\n",
       "      <td>14.001988</td>\n",
       "      <td>18.637576</td>\n",
       "      <td>68.843810</td>\n",
       "      <td>51.482606</td>\n",
       "      <td>1017.653758</td>\n",
       "      <td>4.389750</td>\n",
       "      <td>4.258511</td>\n",
       "      <td>0.221213</td>\n",
       "      <td>0.224181</td>\n",
       "      <td>6.402544</td>\n",
       "    </tr>\n",
       "    <tr>\n",
       "      <th>std</th>\n",
       "      <td>0.064960</td>\n",
       "      <td>6.388924</td>\n",
       "      <td>8.423217</td>\n",
       "      <td>4.147637</td>\n",
       "      <td>3.898898</td>\n",
       "      <td>5.188836</td>\n",
       "      <td>13.138385</td>\n",
       "      <td>5.515461</td>\n",
       "      <td>5.107987</td>\n",
       "      <td>8.851082</td>\n",
       "      <td>8.721551</td>\n",
       "      <td>18.932077</td>\n",
       "      <td>20.532065</td>\n",
       "      <td>6.746248</td>\n",
       "      <td>2.879055</td>\n",
       "      <td>2.745819</td>\n",
       "      <td>0.415065</td>\n",
       "      <td>0.417043</td>\n",
       "      <td>3.426506</td>\n",
       "    </tr>\n",
       "    <tr>\n",
       "      <th>min</th>\n",
       "      <td>0.067224</td>\n",
       "      <td>-8.500000</td>\n",
       "      <td>0.000000</td>\n",
       "      <td>0.000000</td>\n",
       "      <td>0.000000</td>\n",
       "      <td>1.000000</td>\n",
       "      <td>6.000000</td>\n",
       "      <td>1.000000</td>\n",
       "      <td>1.000000</td>\n",
       "      <td>0.000000</td>\n",
       "      <td>0.000000</td>\n",
       "      <td>0.000000</td>\n",
       "      <td>0.000000</td>\n",
       "      <td>980.500000</td>\n",
       "      <td>0.000000</td>\n",
       "      <td>0.000000</td>\n",
       "      <td>0.000000</td>\n",
       "      <td>0.000000</td>\n",
       "      <td>1.000000</td>\n",
       "    </tr>\n",
       "    <tr>\n",
       "      <th>25%</th>\n",
       "      <td>0.185234</td>\n",
       "      <td>7.600000</td>\n",
       "      <td>0.000000</td>\n",
       "      <td>2.400000</td>\n",
       "      <td>4.400000</td>\n",
       "      <td>5.000000</td>\n",
       "      <td>31.000000</td>\n",
       "      <td>3.000000</td>\n",
       "      <td>5.000000</td>\n",
       "      <td>7.000000</td>\n",
       "      <td>13.000000</td>\n",
       "      <td>57.000000</td>\n",
       "      <td>37.000000</td>\n",
       "      <td>1013.500000</td>\n",
       "      <td>1.000000</td>\n",
       "      <td>1.000000</td>\n",
       "      <td>0.000000</td>\n",
       "      <td>0.000000</td>\n",
       "      <td>3.000000</td>\n",
       "    </tr>\n",
       "    <tr>\n",
       "      <th>50%</th>\n",
       "      <td>0.222714</td>\n",
       "      <td>12.000000</td>\n",
       "      <td>0.000000</td>\n",
       "      <td>4.400000</td>\n",
       "      <td>8.100000</td>\n",
       "      <td>9.000000</td>\n",
       "      <td>39.000000</td>\n",
       "      <td>8.000000</td>\n",
       "      <td>8.000000</td>\n",
       "      <td>13.000000</td>\n",
       "      <td>18.637576</td>\n",
       "      <td>70.000000</td>\n",
       "      <td>51.482606</td>\n",
       "      <td>1017.653758</td>\n",
       "      <td>5.000000</td>\n",
       "      <td>5.000000</td>\n",
       "      <td>0.000000</td>\n",
       "      <td>0.000000</td>\n",
       "      <td>6.000000</td>\n",
       "    </tr>\n",
       "    <tr>\n",
       "      <th>75%</th>\n",
       "      <td>0.266917</td>\n",
       "      <td>16.800000</td>\n",
       "      <td>0.800000</td>\n",
       "      <td>7.200000</td>\n",
       "      <td>10.500000</td>\n",
       "      <td>15.000000</td>\n",
       "      <td>46.000000</td>\n",
       "      <td>12.000000</td>\n",
       "      <td>12.000000</td>\n",
       "      <td>19.000000</td>\n",
       "      <td>24.000000</td>\n",
       "      <td>83.000000</td>\n",
       "      <td>65.000000</td>\n",
       "      <td>1021.800000</td>\n",
       "      <td>7.000000</td>\n",
       "      <td>7.000000</td>\n",
       "      <td>0.000000</td>\n",
       "      <td>0.000000</td>\n",
       "      <td>9.000000</td>\n",
       "    </tr>\n",
       "    <tr>\n",
       "      <th>max</th>\n",
       "      <td>0.363151</td>\n",
       "      <td>33.900000</td>\n",
       "      <td>371.000000</td>\n",
       "      <td>145.000000</td>\n",
       "      <td>14.500000</td>\n",
       "      <td>18.000000</td>\n",
       "      <td>135.000000</td>\n",
       "      <td>18.000000</td>\n",
       "      <td>18.000000</td>\n",
       "      <td>130.000000</td>\n",
       "      <td>87.000000</td>\n",
       "      <td>100.000000</td>\n",
       "      <td>100.000000</td>\n",
       "      <td>1041.000000</td>\n",
       "      <td>9.000000</td>\n",
       "      <td>9.000000</td>\n",
       "      <td>1.000000</td>\n",
       "      <td>1.000000</td>\n",
       "      <td>12.000000</td>\n",
       "    </tr>\n",
       "  </tbody>\n",
       "</table>\n",
       "</div>"
      ],
      "text/plain": [
       "            Location        MinTemp       Rainfall    Evaporation  \\\n",
       "count  142193.000000  142193.000000  142193.000000  142193.000000   \n",
       "mean        0.221213      12.186400       2.349974       5.302343   \n",
       "std         0.064960       6.388924       8.423217       4.147637   \n",
       "min         0.067224      -8.500000       0.000000       0.000000   \n",
       "25%         0.185234       7.600000       0.000000       2.400000   \n",
       "50%         0.222714      12.000000       0.000000       4.400000   \n",
       "75%         0.266917      16.800000       0.800000       7.200000   \n",
       "max         0.363151      33.900000     371.000000     145.000000   \n",
       "\n",
       "            Sunshine    WindGustDir  WindGustSpeed     WindDir9am  \\\n",
       "count  142193.000000  142193.000000  142193.000000  142193.000000   \n",
       "mean        7.377594       9.433756      39.984292       8.202239   \n",
       "std         3.898898       5.188836      13.138385       5.515461   \n",
       "min         0.000000       1.000000       6.000000       1.000000   \n",
       "25%         4.400000       5.000000      31.000000       3.000000   \n",
       "50%         8.100000       9.000000      39.000000       8.000000   \n",
       "75%        10.500000      15.000000      46.000000      12.000000   \n",
       "max        14.500000      18.000000     135.000000      18.000000   \n",
       "\n",
       "          WindDir3pm   WindSpeed9am   WindSpeed3pm    Humidity9am  \\\n",
       "count  142193.000000  142193.000000  142193.000000  142193.000000   \n",
       "mean        9.092649      14.001988      18.637576      68.843810   \n",
       "std         5.107987       8.851082       8.721551      18.932077   \n",
       "min         1.000000       0.000000       0.000000       0.000000   \n",
       "25%         5.000000       7.000000      13.000000      57.000000   \n",
       "50%         8.000000      13.000000      18.637576      70.000000   \n",
       "75%        12.000000      19.000000      24.000000      83.000000   \n",
       "max        18.000000     130.000000      87.000000     100.000000   \n",
       "\n",
       "         Humidity3pm    Pressure9am       Cloud9am       Cloud3pm  \\\n",
       "count  142193.000000  142193.000000  142193.000000  142193.000000   \n",
       "mean       51.482606    1017.653758       4.389750       4.258511   \n",
       "std        20.532065       6.746248       2.879055       2.745819   \n",
       "min         0.000000     980.500000       0.000000       0.000000   \n",
       "25%        37.000000    1013.500000       1.000000       1.000000   \n",
       "50%        51.482606    1017.653758       5.000000       5.000000   \n",
       "75%        65.000000    1021.800000       7.000000       7.000000   \n",
       "max       100.000000    1041.000000       9.000000       9.000000   \n",
       "\n",
       "           RainToday   RainTomorrow          Month  \n",
       "count  142193.000000  142193.000000  142193.000000  \n",
       "mean        0.221213       0.224181       6.402544  \n",
       "std         0.415065       0.417043       3.426506  \n",
       "min         0.000000       0.000000       1.000000  \n",
       "25%         0.000000       0.000000       3.000000  \n",
       "50%         0.000000       0.000000       6.000000  \n",
       "75%         0.000000       0.000000       9.000000  \n",
       "max         1.000000       1.000000      12.000000  "
      ]
     },
     "execution_count": 3,
     "metadata": {},
     "output_type": "execute_result"
    }
   ],
   "source": [
    "df.describe()"
   ]
  },
  {
   "cell_type": "code",
   "execution_count": 4,
   "id": "d6686652",
   "metadata": {},
   "outputs": [
    {
     "data": {
      "text/html": [
       "<div>\n",
       "<style scoped>\n",
       "    .dataframe tbody tr th:only-of-type {\n",
       "        vertical-align: middle;\n",
       "    }\n",
       "\n",
       "    .dataframe tbody tr th {\n",
       "        vertical-align: top;\n",
       "    }\n",
       "\n",
       "    .dataframe thead th {\n",
       "        text-align: right;\n",
       "    }\n",
       "</style>\n",
       "<table border=\"1\" class=\"dataframe\">\n",
       "  <thead>\n",
       "    <tr style=\"text-align: right;\">\n",
       "      <th></th>\n",
       "      <th>Location</th>\n",
       "      <th>MinTemp</th>\n",
       "      <th>Rainfall</th>\n",
       "      <th>Evaporation</th>\n",
       "      <th>Sunshine</th>\n",
       "      <th>WindGustDir</th>\n",
       "      <th>WindGustSpeed</th>\n",
       "      <th>WindDir9am</th>\n",
       "      <th>WindDir3pm</th>\n",
       "      <th>WindSpeed9am</th>\n",
       "      <th>WindSpeed3pm</th>\n",
       "      <th>Humidity9am</th>\n",
       "      <th>Humidity3pm</th>\n",
       "      <th>Pressure9am</th>\n",
       "      <th>Cloud9am</th>\n",
       "      <th>Cloud3pm</th>\n",
       "      <th>RainToday</th>\n",
       "      <th>RainTomorrow</th>\n",
       "      <th>Month</th>\n",
       "    </tr>\n",
       "  </thead>\n",
       "  <tbody>\n",
       "    <tr>\n",
       "      <th>0</th>\n",
       "      <td>0.158714</td>\n",
       "      <td>18.2</td>\n",
       "      <td>0.0</td>\n",
       "      <td>10.0</td>\n",
       "      <td>0.0</td>\n",
       "      <td>1</td>\n",
       "      <td>48.0</td>\n",
       "      <td>1</td>\n",
       "      <td>18</td>\n",
       "      <td>26.0</td>\n",
       "      <td>22.0</td>\n",
       "      <td>17.0</td>\n",
       "      <td>9.0</td>\n",
       "      <td>1017.653758</td>\n",
       "      <td>0.0</td>\n",
       "      <td>7.0</td>\n",
       "      <td>0</td>\n",
       "      <td>0</td>\n",
       "      <td>3</td>\n",
       "    </tr>\n",
       "    <tr>\n",
       "      <th>1</th>\n",
       "      <td>0.067224</td>\n",
       "      <td>25.1</td>\n",
       "      <td>0.0</td>\n",
       "      <td>11.6</td>\n",
       "      <td>0.0</td>\n",
       "      <td>7</td>\n",
       "      <td>41.0</td>\n",
       "      <td>5</td>\n",
       "      <td>7</td>\n",
       "      <td>24.0</td>\n",
       "      <td>6.0</td>\n",
       "      <td>14.0</td>\n",
       "      <td>9.0</td>\n",
       "      <td>1012.800000</td>\n",
       "      <td>0.0</td>\n",
       "      <td>7.0</td>\n",
       "      <td>0</td>\n",
       "      <td>0</td>\n",
       "      <td>1</td>\n",
       "    </tr>\n",
       "    <tr>\n",
       "      <th>2</th>\n",
       "      <td>0.074293</td>\n",
       "      <td>21.1</td>\n",
       "      <td>0.0</td>\n",
       "      <td>14.8</td>\n",
       "      <td>0.0</td>\n",
       "      <td>12</td>\n",
       "      <td>70.0</td>\n",
       "      <td>17</td>\n",
       "      <td>17</td>\n",
       "      <td>26.0</td>\n",
       "      <td>19.0</td>\n",
       "      <td>13.0</td>\n",
       "      <td>9.0</td>\n",
       "      <td>1009.900000</td>\n",
       "      <td>0.0</td>\n",
       "      <td>7.0</td>\n",
       "      <td>0</td>\n",
       "      <td>0</td>\n",
       "      <td>11</td>\n",
       "    </tr>\n",
       "    <tr>\n",
       "      <th>3</th>\n",
       "      <td>0.067224</td>\n",
       "      <td>20.1</td>\n",
       "      <td>0.0</td>\n",
       "      <td>10.4</td>\n",
       "      <td>0.0</td>\n",
       "      <td>2</td>\n",
       "      <td>52.0</td>\n",
       "      <td>2</td>\n",
       "      <td>16</td>\n",
       "      <td>19.0</td>\n",
       "      <td>28.0</td>\n",
       "      <td>21.0</td>\n",
       "      <td>9.0</td>\n",
       "      <td>1002.500000</td>\n",
       "      <td>0.0</td>\n",
       "      <td>7.0</td>\n",
       "      <td>0</td>\n",
       "      <td>0</td>\n",
       "      <td>2</td>\n",
       "    </tr>\n",
       "    <tr>\n",
       "      <th>4</th>\n",
       "      <td>0.256935</td>\n",
       "      <td>9.0</td>\n",
       "      <td>0.0</td>\n",
       "      <td>13.2</td>\n",
       "      <td>0.0</td>\n",
       "      <td>16</td>\n",
       "      <td>89.0</td>\n",
       "      <td>1</td>\n",
       "      <td>17</td>\n",
       "      <td>30.0</td>\n",
       "      <td>41.0</td>\n",
       "      <td>33.0</td>\n",
       "      <td>13.0</td>\n",
       "      <td>1006.100000</td>\n",
       "      <td>0.0</td>\n",
       "      <td>7.0</td>\n",
       "      <td>0</td>\n",
       "      <td>0</td>\n",
       "      <td>12</td>\n",
       "    </tr>\n",
       "  </tbody>\n",
       "</table>\n",
       "</div>"
      ],
      "text/plain": [
       "   Location  MinTemp  Rainfall  Evaporation  Sunshine  WindGustDir  \\\n",
       "0  0.158714     18.2       0.0         10.0       0.0            1   \n",
       "1  0.067224     25.1       0.0         11.6       0.0            7   \n",
       "2  0.074293     21.1       0.0         14.8       0.0           12   \n",
       "3  0.067224     20.1       0.0         10.4       0.0            2   \n",
       "4  0.256935      9.0       0.0         13.2       0.0           16   \n",
       "\n",
       "   WindGustSpeed  WindDir9am  WindDir3pm  WindSpeed9am  WindSpeed3pm  \\\n",
       "0           48.0           1          18          26.0          22.0   \n",
       "1           41.0           5           7          24.0           6.0   \n",
       "2           70.0          17          17          26.0          19.0   \n",
       "3           52.0           2          16          19.0          28.0   \n",
       "4           89.0           1          17          30.0          41.0   \n",
       "\n",
       "   Humidity9am  Humidity3pm  Pressure9am  Cloud9am  Cloud3pm  RainToday  \\\n",
       "0         17.0          9.0  1017.653758       0.0       7.0          0   \n",
       "1         14.0          9.0  1012.800000       0.0       7.0          0   \n",
       "2         13.0          9.0  1009.900000       0.0       7.0          0   \n",
       "3         21.0          9.0  1002.500000       0.0       7.0          0   \n",
       "4         33.0         13.0  1006.100000       0.0       7.0          0   \n",
       "\n",
       "   RainTomorrow  Month  \n",
       "0             0      3  \n",
       "1             0      1  \n",
       "2             0     11  \n",
       "3             0      2  \n",
       "4             0     12  "
      ]
     },
     "execution_count": 4,
     "metadata": {},
     "output_type": "execute_result"
    }
   ],
   "source": [
    "df.head()"
   ]
  },
  {
   "cell_type": "code",
   "execution_count": 5,
   "id": "3a767c7c",
   "metadata": {},
   "outputs": [
    {
     "data": {
      "text/html": [
       "<div>\n",
       "<style scoped>\n",
       "    .dataframe tbody tr th:only-of-type {\n",
       "        vertical-align: middle;\n",
       "    }\n",
       "\n",
       "    .dataframe tbody tr th {\n",
       "        vertical-align: top;\n",
       "    }\n",
       "\n",
       "    .dataframe thead th {\n",
       "        text-align: right;\n",
       "    }\n",
       "</style>\n",
       "<table border=\"1\" class=\"dataframe\">\n",
       "  <thead>\n",
       "    <tr style=\"text-align: right;\">\n",
       "      <th></th>\n",
       "      <th>Location</th>\n",
       "      <th>MinTemp</th>\n",
       "      <th>Rainfall</th>\n",
       "      <th>Evaporation</th>\n",
       "      <th>Sunshine</th>\n",
       "      <th>WindGustDir</th>\n",
       "      <th>WindGustSpeed</th>\n",
       "      <th>WindDir9am</th>\n",
       "      <th>WindDir3pm</th>\n",
       "      <th>WindSpeed9am</th>\n",
       "      <th>WindSpeed3pm</th>\n",
       "      <th>Humidity9am</th>\n",
       "      <th>Humidity3pm</th>\n",
       "      <th>Pressure9am</th>\n",
       "      <th>Cloud9am</th>\n",
       "      <th>Cloud3pm</th>\n",
       "      <th>RainToday</th>\n",
       "      <th>Month</th>\n",
       "    </tr>\n",
       "  </thead>\n",
       "  <tbody>\n",
       "    <tr>\n",
       "      <th>0</th>\n",
       "      <td>0.158714</td>\n",
       "      <td>18.2</td>\n",
       "      <td>0.0</td>\n",
       "      <td>10.0</td>\n",
       "      <td>0.0</td>\n",
       "      <td>1</td>\n",
       "      <td>48.0</td>\n",
       "      <td>1</td>\n",
       "      <td>18</td>\n",
       "      <td>26.0</td>\n",
       "      <td>22.0</td>\n",
       "      <td>17.0</td>\n",
       "      <td>9.0</td>\n",
       "      <td>1017.653758</td>\n",
       "      <td>0.0</td>\n",
       "      <td>7.0</td>\n",
       "      <td>0</td>\n",
       "      <td>3</td>\n",
       "    </tr>\n",
       "    <tr>\n",
       "      <th>1</th>\n",
       "      <td>0.067224</td>\n",
       "      <td>25.1</td>\n",
       "      <td>0.0</td>\n",
       "      <td>11.6</td>\n",
       "      <td>0.0</td>\n",
       "      <td>7</td>\n",
       "      <td>41.0</td>\n",
       "      <td>5</td>\n",
       "      <td>7</td>\n",
       "      <td>24.0</td>\n",
       "      <td>6.0</td>\n",
       "      <td>14.0</td>\n",
       "      <td>9.0</td>\n",
       "      <td>1012.800000</td>\n",
       "      <td>0.0</td>\n",
       "      <td>7.0</td>\n",
       "      <td>0</td>\n",
       "      <td>1</td>\n",
       "    </tr>\n",
       "    <tr>\n",
       "      <th>2</th>\n",
       "      <td>0.074293</td>\n",
       "      <td>21.1</td>\n",
       "      <td>0.0</td>\n",
       "      <td>14.8</td>\n",
       "      <td>0.0</td>\n",
       "      <td>12</td>\n",
       "      <td>70.0</td>\n",
       "      <td>17</td>\n",
       "      <td>17</td>\n",
       "      <td>26.0</td>\n",
       "      <td>19.0</td>\n",
       "      <td>13.0</td>\n",
       "      <td>9.0</td>\n",
       "      <td>1009.900000</td>\n",
       "      <td>0.0</td>\n",
       "      <td>7.0</td>\n",
       "      <td>0</td>\n",
       "      <td>11</td>\n",
       "    </tr>\n",
       "    <tr>\n",
       "      <th>3</th>\n",
       "      <td>0.067224</td>\n",
       "      <td>20.1</td>\n",
       "      <td>0.0</td>\n",
       "      <td>10.4</td>\n",
       "      <td>0.0</td>\n",
       "      <td>2</td>\n",
       "      <td>52.0</td>\n",
       "      <td>2</td>\n",
       "      <td>16</td>\n",
       "      <td>19.0</td>\n",
       "      <td>28.0</td>\n",
       "      <td>21.0</td>\n",
       "      <td>9.0</td>\n",
       "      <td>1002.500000</td>\n",
       "      <td>0.0</td>\n",
       "      <td>7.0</td>\n",
       "      <td>0</td>\n",
       "      <td>2</td>\n",
       "    </tr>\n",
       "    <tr>\n",
       "      <th>4</th>\n",
       "      <td>0.256935</td>\n",
       "      <td>9.0</td>\n",
       "      <td>0.0</td>\n",
       "      <td>13.2</td>\n",
       "      <td>0.0</td>\n",
       "      <td>16</td>\n",
       "      <td>89.0</td>\n",
       "      <td>1</td>\n",
       "      <td>17</td>\n",
       "      <td>30.0</td>\n",
       "      <td>41.0</td>\n",
       "      <td>33.0</td>\n",
       "      <td>13.0</td>\n",
       "      <td>1006.100000</td>\n",
       "      <td>0.0</td>\n",
       "      <td>7.0</td>\n",
       "      <td>0</td>\n",
       "      <td>12</td>\n",
       "    </tr>\n",
       "  </tbody>\n",
       "</table>\n",
       "</div>"
      ],
      "text/plain": [
       "   Location  MinTemp  Rainfall  Evaporation  Sunshine  WindGustDir  \\\n",
       "0  0.158714     18.2       0.0         10.0       0.0            1   \n",
       "1  0.067224     25.1       0.0         11.6       0.0            7   \n",
       "2  0.074293     21.1       0.0         14.8       0.0           12   \n",
       "3  0.067224     20.1       0.0         10.4       0.0            2   \n",
       "4  0.256935      9.0       0.0         13.2       0.0           16   \n",
       "\n",
       "   WindGustSpeed  WindDir9am  WindDir3pm  WindSpeed9am  WindSpeed3pm  \\\n",
       "0           48.0           1          18          26.0          22.0   \n",
       "1           41.0           5           7          24.0           6.0   \n",
       "2           70.0          17          17          26.0          19.0   \n",
       "3           52.0           2          16          19.0          28.0   \n",
       "4           89.0           1          17          30.0          41.0   \n",
       "\n",
       "   Humidity9am  Humidity3pm  Pressure9am  Cloud9am  Cloud3pm  RainToday  Month  \n",
       "0         17.0          9.0  1017.653758       0.0       7.0          0      3  \n",
       "1         14.0          9.0  1012.800000       0.0       7.0          0      1  \n",
       "2         13.0          9.0  1009.900000       0.0       7.0          0     11  \n",
       "3         21.0          9.0  1002.500000       0.0       7.0          0      2  \n",
       "4         33.0         13.0  1006.100000       0.0       7.0          0     12  "
      ]
     },
     "execution_count": 5,
     "metadata": {},
     "output_type": "execute_result"
    }
   ],
   "source": [
    "Y = df['RainTomorrow']\n",
    "X = df.drop('RainTomorrow', axis=1)\n",
    "feature_names = X.columns\n",
    "X.head()"
   ]
  },
  {
   "cell_type": "code",
   "execution_count": 6,
   "id": "cceac2cc",
   "metadata": {},
   "outputs": [
    {
     "name": "stdout",
     "output_type": "stream",
     "text": [
      "(106644, 18)\n",
      "(35549, 18)\n"
     ]
    }
   ],
   "source": [
    "#nemamo balansirane rezultate, pa moramo da koristimo stratifikovanu podelu\n",
    "X_train, X_test, Y_train, Y_test = train_test_split(X, Y, test_size=0.25, stratify=Y, random_state=41)\n",
    "\n",
    "print(X_train.shape)\n",
    "print(X_test.shape)\n"
   ]
  },
  {
   "cell_type": "code",
   "execution_count": 7,
   "id": "98864290",
   "metadata": {},
   "outputs": [
    {
     "data": {
      "text/html": [
       "<div>\n",
       "<style scoped>\n",
       "    .dataframe tbody tr th:only-of-type {\n",
       "        vertical-align: middle;\n",
       "    }\n",
       "\n",
       "    .dataframe tbody tr th {\n",
       "        vertical-align: top;\n",
       "    }\n",
       "\n",
       "    .dataframe thead th {\n",
       "        text-align: right;\n",
       "    }\n",
       "</style>\n",
       "<table border=\"1\" class=\"dataframe\">\n",
       "  <thead>\n",
       "    <tr style=\"text-align: right;\">\n",
       "      <th></th>\n",
       "      <th>Location</th>\n",
       "      <th>MinTemp</th>\n",
       "      <th>Rainfall</th>\n",
       "      <th>Evaporation</th>\n",
       "      <th>Sunshine</th>\n",
       "      <th>WindGustDir</th>\n",
       "      <th>WindGustSpeed</th>\n",
       "      <th>WindDir9am</th>\n",
       "      <th>WindDir3pm</th>\n",
       "      <th>WindSpeed9am</th>\n",
       "      <th>WindSpeed3pm</th>\n",
       "      <th>Humidity9am</th>\n",
       "      <th>Humidity3pm</th>\n",
       "      <th>Pressure9am</th>\n",
       "      <th>Cloud9am</th>\n",
       "      <th>Cloud3pm</th>\n",
       "      <th>RainToday</th>\n",
       "      <th>Month</th>\n",
       "    </tr>\n",
       "  </thead>\n",
       "  <tbody>\n",
       "    <tr>\n",
       "      <th>count</th>\n",
       "      <td>106644.000000</td>\n",
       "      <td>106644.000000</td>\n",
       "      <td>106644.000000</td>\n",
       "      <td>106644.000000</td>\n",
       "      <td>106644.000000</td>\n",
       "      <td>106644.000000</td>\n",
       "      <td>106644.000000</td>\n",
       "      <td>106644.000000</td>\n",
       "      <td>106644.000000</td>\n",
       "      <td>106644.000000</td>\n",
       "      <td>106644.000000</td>\n",
       "      <td>106644.000000</td>\n",
       "      <td>106644.000000</td>\n",
       "      <td>106644.000000</td>\n",
       "      <td>106644.000000</td>\n",
       "      <td>106644.000000</td>\n",
       "      <td>106644.000000</td>\n",
       "      <td>106644.000000</td>\n",
       "    </tr>\n",
       "    <tr>\n",
       "      <th>mean</th>\n",
       "      <td>0.221288</td>\n",
       "      <td>12.184655</td>\n",
       "      <td>2.349077</td>\n",
       "      <td>5.304830</td>\n",
       "      <td>7.372220</td>\n",
       "      <td>9.432898</td>\n",
       "      <td>39.990354</td>\n",
       "      <td>8.197320</td>\n",
       "      <td>9.102059</td>\n",
       "      <td>14.018519</td>\n",
       "      <td>18.636957</td>\n",
       "      <td>68.858269</td>\n",
       "      <td>51.501083</td>\n",
       "      <td>1017.649075</td>\n",
       "      <td>4.394647</td>\n",
       "      <td>4.259804</td>\n",
       "      <td>0.222113</td>\n",
       "      <td>6.401382</td>\n",
       "    </tr>\n",
       "    <tr>\n",
       "      <th>std</th>\n",
       "      <td>0.064919</td>\n",
       "      <td>6.397794</td>\n",
       "      <td>8.338868</td>\n",
       "      <td>4.148628</td>\n",
       "      <td>3.899083</td>\n",
       "      <td>5.184791</td>\n",
       "      <td>13.160175</td>\n",
       "      <td>5.514755</td>\n",
       "      <td>5.110432</td>\n",
       "      <td>8.871163</td>\n",
       "      <td>8.731449</td>\n",
       "      <td>18.943706</td>\n",
       "      <td>20.559513</td>\n",
       "      <td>6.758492</td>\n",
       "      <td>2.879458</td>\n",
       "      <td>2.743398</td>\n",
       "      <td>0.415669</td>\n",
       "      <td>3.425475</td>\n",
       "    </tr>\n",
       "    <tr>\n",
       "      <th>min</th>\n",
       "      <td>0.067224</td>\n",
       "      <td>-8.500000</td>\n",
       "      <td>0.000000</td>\n",
       "      <td>0.000000</td>\n",
       "      <td>0.000000</td>\n",
       "      <td>1.000000</td>\n",
       "      <td>6.000000</td>\n",
       "      <td>1.000000</td>\n",
       "      <td>1.000000</td>\n",
       "      <td>0.000000</td>\n",
       "      <td>0.000000</td>\n",
       "      <td>0.000000</td>\n",
       "      <td>0.000000</td>\n",
       "      <td>982.000000</td>\n",
       "      <td>0.000000</td>\n",
       "      <td>0.000000</td>\n",
       "      <td>0.000000</td>\n",
       "      <td>1.000000</td>\n",
       "    </tr>\n",
       "    <tr>\n",
       "      <th>25%</th>\n",
       "      <td>0.185234</td>\n",
       "      <td>7.600000</td>\n",
       "      <td>0.000000</td>\n",
       "      <td>2.400000</td>\n",
       "      <td>4.400000</td>\n",
       "      <td>5.000000</td>\n",
       "      <td>31.000000</td>\n",
       "      <td>3.000000</td>\n",
       "      <td>5.000000</td>\n",
       "      <td>7.000000</td>\n",
       "      <td>13.000000</td>\n",
       "      <td>57.000000</td>\n",
       "      <td>37.000000</td>\n",
       "      <td>1013.500000</td>\n",
       "      <td>1.000000</td>\n",
       "      <td>1.000000</td>\n",
       "      <td>0.000000</td>\n",
       "      <td>3.000000</td>\n",
       "    </tr>\n",
       "    <tr>\n",
       "      <th>50%</th>\n",
       "      <td>0.222714</td>\n",
       "      <td>12.000000</td>\n",
       "      <td>0.000000</td>\n",
       "      <td>4.400000</td>\n",
       "      <td>8.100000</td>\n",
       "      <td>9.000000</td>\n",
       "      <td>39.000000</td>\n",
       "      <td>8.000000</td>\n",
       "      <td>8.000000</td>\n",
       "      <td>13.000000</td>\n",
       "      <td>18.637576</td>\n",
       "      <td>70.000000</td>\n",
       "      <td>51.482606</td>\n",
       "      <td>1017.653758</td>\n",
       "      <td>5.000000</td>\n",
       "      <td>5.000000</td>\n",
       "      <td>0.000000</td>\n",
       "      <td>6.000000</td>\n",
       "    </tr>\n",
       "    <tr>\n",
       "      <th>75%</th>\n",
       "      <td>0.266917</td>\n",
       "      <td>16.800000</td>\n",
       "      <td>0.800000</td>\n",
       "      <td>7.200000</td>\n",
       "      <td>10.500000</td>\n",
       "      <td>15.000000</td>\n",
       "      <td>46.000000</td>\n",
       "      <td>12.000000</td>\n",
       "      <td>12.000000</td>\n",
       "      <td>19.000000</td>\n",
       "      <td>24.000000</td>\n",
       "      <td>83.000000</td>\n",
       "      <td>65.000000</td>\n",
       "      <td>1021.800000</td>\n",
       "      <td>7.000000</td>\n",
       "      <td>7.000000</td>\n",
       "      <td>0.000000</td>\n",
       "      <td>9.000000</td>\n",
       "    </tr>\n",
       "    <tr>\n",
       "      <th>max</th>\n",
       "      <td>0.363151</td>\n",
       "      <td>33.900000</td>\n",
       "      <td>278.400000</td>\n",
       "      <td>145.000000</td>\n",
       "      <td>14.500000</td>\n",
       "      <td>18.000000</td>\n",
       "      <td>135.000000</td>\n",
       "      <td>18.000000</td>\n",
       "      <td>18.000000</td>\n",
       "      <td>130.000000</td>\n",
       "      <td>87.000000</td>\n",
       "      <td>100.000000</td>\n",
       "      <td>100.000000</td>\n",
       "      <td>1041.000000</td>\n",
       "      <td>9.000000</td>\n",
       "      <td>9.000000</td>\n",
       "      <td>1.000000</td>\n",
       "      <td>12.000000</td>\n",
       "    </tr>\n",
       "  </tbody>\n",
       "</table>\n",
       "</div>"
      ],
      "text/plain": [
       "            Location        MinTemp       Rainfall    Evaporation  \\\n",
       "count  106644.000000  106644.000000  106644.000000  106644.000000   \n",
       "mean        0.221288      12.184655       2.349077       5.304830   \n",
       "std         0.064919       6.397794       8.338868       4.148628   \n",
       "min         0.067224      -8.500000       0.000000       0.000000   \n",
       "25%         0.185234       7.600000       0.000000       2.400000   \n",
       "50%         0.222714      12.000000       0.000000       4.400000   \n",
       "75%         0.266917      16.800000       0.800000       7.200000   \n",
       "max         0.363151      33.900000     278.400000     145.000000   \n",
       "\n",
       "            Sunshine    WindGustDir  WindGustSpeed     WindDir9am  \\\n",
       "count  106644.000000  106644.000000  106644.000000  106644.000000   \n",
       "mean        7.372220       9.432898      39.990354       8.197320   \n",
       "std         3.899083       5.184791      13.160175       5.514755   \n",
       "min         0.000000       1.000000       6.000000       1.000000   \n",
       "25%         4.400000       5.000000      31.000000       3.000000   \n",
       "50%         8.100000       9.000000      39.000000       8.000000   \n",
       "75%        10.500000      15.000000      46.000000      12.000000   \n",
       "max        14.500000      18.000000     135.000000      18.000000   \n",
       "\n",
       "          WindDir3pm   WindSpeed9am   WindSpeed3pm    Humidity9am  \\\n",
       "count  106644.000000  106644.000000  106644.000000  106644.000000   \n",
       "mean        9.102059      14.018519      18.636957      68.858269   \n",
       "std         5.110432       8.871163       8.731449      18.943706   \n",
       "min         1.000000       0.000000       0.000000       0.000000   \n",
       "25%         5.000000       7.000000      13.000000      57.000000   \n",
       "50%         8.000000      13.000000      18.637576      70.000000   \n",
       "75%        12.000000      19.000000      24.000000      83.000000   \n",
       "max        18.000000     130.000000      87.000000     100.000000   \n",
       "\n",
       "         Humidity3pm    Pressure9am       Cloud9am       Cloud3pm  \\\n",
       "count  106644.000000  106644.000000  106644.000000  106644.000000   \n",
       "mean       51.501083    1017.649075       4.394647       4.259804   \n",
       "std        20.559513       6.758492       2.879458       2.743398   \n",
       "min         0.000000     982.000000       0.000000       0.000000   \n",
       "25%        37.000000    1013.500000       1.000000       1.000000   \n",
       "50%        51.482606    1017.653758       5.000000       5.000000   \n",
       "75%        65.000000    1021.800000       7.000000       7.000000   \n",
       "max       100.000000    1041.000000       9.000000       9.000000   \n",
       "\n",
       "           RainToday          Month  \n",
       "count  106644.000000  106644.000000  \n",
       "mean        0.222113       6.401382  \n",
       "std         0.415669       3.425475  \n",
       "min         0.000000       1.000000  \n",
       "25%         0.000000       3.000000  \n",
       "50%         0.000000       6.000000  \n",
       "75%         0.000000       9.000000  \n",
       "max         1.000000      12.000000  "
      ]
     },
     "execution_count": 7,
     "metadata": {},
     "output_type": "execute_result"
    }
   ],
   "source": [
    "X_train.describe()"
   ]
  },
  {
   "cell_type": "code",
   "execution_count": 8,
   "id": "3fe72d23",
   "metadata": {},
   "outputs": [],
   "source": [
    "def find_boundaries(df, name):\n",
    "    \n",
    "    Q1=df[name].quantile(0.25)\n",
    "    Q3=df[name].quantile(0.75)\n",
    "    IQR=Q3-Q1\n",
    "    lower_boundary = Q1-1.5*IQR\n",
    "    upper_boundary = Q3+1.5*IQR\n",
    "    return lower_boundary, upper_boundary\n"
   ]
  },
  {
   "cell_type": "code",
   "execution_count": 9,
   "id": "4b6fa316",
   "metadata": {},
   "outputs": [],
   "source": [
    "def outliers(name,df):\n",
    "    lower_rainfall, upper_rainfall = find_boundaries(df, name)\n",
    "    print('Gornja granica', upper_rainfall)\n",
    "    print('Donja granica', lower_rainfall)\n",
    "    outliers_rainfall = np.where(df[name] > upper_rainfall, True,\n",
    "                            np.where(df[name] < lower_rainfall, True, False))\n",
    "\n",
    "    print(outliers_rainfall)\n",
    "    return len(df[outliers_rainfall]), outliers_rainfall\n",
    "\n",
    "\n"
   ]
  },
  {
   "cell_type": "code",
   "execution_count": 10,
   "id": "175f6fd8",
   "metadata": {},
   "outputs": [
    {
     "name": "stdout",
     "output_type": "stream",
     "text": [
      "Gornja granica 14.400000000000002\n",
      "Donja granica -4.800000000000001\n",
      "[False False False ... False False False]\n",
      "142193\n",
      "Gornja granica 37.0\n",
      "Donja granica -11.0\n",
      "[False False False ... False False False]\n",
      "142193\n"
     ]
    }
   ],
   "source": [
    "#l, out = outliers('WindSpeed3pm',X_train)\n",
    "#X_train = X_train[~(out)]\n",
    "#Y_train = Y_train[~(out)]\n",
    "#print(len(df))\n",
    "\n",
    "l, out = outliers('Evaporation',X_train)\n",
    "X_train = X_train[~(out)]\n",
    "Y_train = Y_train[~(out)]\n",
    "print(len(df))\n",
    "\n",
    "#l, out = outliers('Rainfall',X_train)\n",
    "#X_train = X_train[~(out)]\n",
    "#Y_train = Y_train[~(out)]\n",
    "#print(len(df))\n",
    "\n",
    "l, out = outliers('WindSpeed9am',X_train)\n",
    "X_train = X_train[~(out)]\n",
    "Y_train = Y_train[~(out)]\n",
    "print(len(df))"
   ]
  },
  {
   "cell_type": "code",
   "execution_count": 11,
   "id": "61950dff",
   "metadata": {},
   "outputs": [
    {
     "data": {
      "text/plain": [
       "(102702,)"
      ]
     },
     "execution_count": 11,
     "metadata": {},
     "output_type": "execute_result"
    }
   ],
   "source": [
    "X_train.shape\n",
    "Y_train.shape"
   ]
  },
  {
   "cell_type": "markdown",
   "id": "e3cb8072",
   "metadata": {},
   "source": [
    "Normalizacija"
   ]
  },
  {
   "cell_type": "code",
   "execution_count": 12,
   "id": "d4c9bc72",
   "metadata": {},
   "outputs": [],
   "source": [
    "scaler = StandardScaler()\n",
    "scaler.fit(X_train)\n",
    "X_train = scaler.transform(X_train)\n",
    "X_test = scaler.transform(X_test)"
   ]
  },
  {
   "cell_type": "code",
   "execution_count": 13,
   "id": "6f6d0a1a",
   "metadata": {},
   "outputs": [
    {
     "data": {
      "text/plain": [
       "34.06774079126249"
      ]
     },
     "execution_count": 13,
     "metadata": {},
     "output_type": "execute_result"
    }
   ],
   "source": [
    "X_train.max()"
   ]
  },
  {
   "cell_type": "code",
   "execution_count": 14,
   "id": "12be6c33",
   "metadata": {},
   "outputs": [],
   "source": [
    "def report(model, x, y, text = \"training\"):\n",
    "    y_pred = model.predict(x)\n",
    "    \n",
    "    print(colored(\"Classification report for model {} on {} data\".format(type(model).__name__, text), \"green\"))\n",
    "    print(\"---------------------------------------------------------------------------------\")\n",
    "    print(classification_report(y, y_pred, zero_division=True))\n",
    "    print(\"---------------------------------------------------------------------------------\")\n",
    "    \n",
    "        \n",
    "    print(colored(\"Confusion matrix for model {} on {} data \".format(type(model).__name__, text), \"green\"))\n",
    "    print(\"---------------------------------------------------------------------------------\")\n",
    "    print(pd.DataFrame(confusion_matrix(y, y_pred), columns=['No', 'Yes'], index=['No', 'Yes']))\n",
    "    print(\"---------------------------------------------------------------------------------\")\n",
    "    \n",
    "    cm_matrix = pd.DataFrame(confusion_matrix(y, y_pred), index=['Actual Negative:0', 'Actual Positive:1'], \n",
    "                                 columns=['Predict Negative:0', 'Predict Positive:1'])\n",
    "\n",
    "    sns.heatmap(cm_matrix, annot=True, fmt='d', cmap='YlGnBu')\n",
    "    "
   ]
  },
  {
   "cell_type": "markdown",
   "id": "607b0cdc",
   "metadata": {},
   "source": [
    "KNN"
   ]
  },
  {
   "cell_type": "code",
   "execution_count": 15,
   "id": "39c0f831",
   "metadata": {},
   "outputs": [
    {
     "data": {
      "text/html": [
       "<style>#sk-container-id-1 {color: black;background-color: white;}#sk-container-id-1 pre{padding: 0;}#sk-container-id-1 div.sk-toggleable {background-color: white;}#sk-container-id-1 label.sk-toggleable__label {cursor: pointer;display: block;width: 100%;margin-bottom: 0;padding: 0.3em;box-sizing: border-box;text-align: center;}#sk-container-id-1 label.sk-toggleable__label-arrow:before {content: \"▸\";float: left;margin-right: 0.25em;color: #696969;}#sk-container-id-1 label.sk-toggleable__label-arrow:hover:before {color: black;}#sk-container-id-1 div.sk-estimator:hover label.sk-toggleable__label-arrow:before {color: black;}#sk-container-id-1 div.sk-toggleable__content {max-height: 0;max-width: 0;overflow: hidden;text-align: left;background-color: #f0f8ff;}#sk-container-id-1 div.sk-toggleable__content pre {margin: 0.2em;color: black;border-radius: 0.25em;background-color: #f0f8ff;}#sk-container-id-1 input.sk-toggleable__control:checked~div.sk-toggleable__content {max-height: 200px;max-width: 100%;overflow: auto;}#sk-container-id-1 input.sk-toggleable__control:checked~label.sk-toggleable__label-arrow:before {content: \"▾\";}#sk-container-id-1 div.sk-estimator input.sk-toggleable__control:checked~label.sk-toggleable__label {background-color: #d4ebff;}#sk-container-id-1 div.sk-label input.sk-toggleable__control:checked~label.sk-toggleable__label {background-color: #d4ebff;}#sk-container-id-1 input.sk-hidden--visually {border: 0;clip: rect(1px 1px 1px 1px);clip: rect(1px, 1px, 1px, 1px);height: 1px;margin: -1px;overflow: hidden;padding: 0;position: absolute;width: 1px;}#sk-container-id-1 div.sk-estimator {font-family: monospace;background-color: #f0f8ff;border: 1px dotted black;border-radius: 0.25em;box-sizing: border-box;margin-bottom: 0.5em;}#sk-container-id-1 div.sk-estimator:hover {background-color: #d4ebff;}#sk-container-id-1 div.sk-parallel-item::after {content: \"\";width: 100%;border-bottom: 1px solid gray;flex-grow: 1;}#sk-container-id-1 div.sk-label:hover label.sk-toggleable__label {background-color: #d4ebff;}#sk-container-id-1 div.sk-serial::before {content: \"\";position: absolute;border-left: 1px solid gray;box-sizing: border-box;top: 0;bottom: 0;left: 50%;z-index: 0;}#sk-container-id-1 div.sk-serial {display: flex;flex-direction: column;align-items: center;background-color: white;padding-right: 0.2em;padding-left: 0.2em;position: relative;}#sk-container-id-1 div.sk-item {position: relative;z-index: 1;}#sk-container-id-1 div.sk-parallel {display: flex;align-items: stretch;justify-content: center;background-color: white;position: relative;}#sk-container-id-1 div.sk-item::before, #sk-container-id-1 div.sk-parallel-item::before {content: \"\";position: absolute;border-left: 1px solid gray;box-sizing: border-box;top: 0;bottom: 0;left: 50%;z-index: -1;}#sk-container-id-1 div.sk-parallel-item {display: flex;flex-direction: column;z-index: 1;position: relative;background-color: white;}#sk-container-id-1 div.sk-parallel-item:first-child::after {align-self: flex-end;width: 50%;}#sk-container-id-1 div.sk-parallel-item:last-child::after {align-self: flex-start;width: 50%;}#sk-container-id-1 div.sk-parallel-item:only-child::after {width: 0;}#sk-container-id-1 div.sk-dashed-wrapped {border: 1px dashed gray;margin: 0 0.4em 0.5em 0.4em;box-sizing: border-box;padding-bottom: 0.4em;background-color: white;}#sk-container-id-1 div.sk-label label {font-family: monospace;font-weight: bold;display: inline-block;line-height: 1.2em;}#sk-container-id-1 div.sk-label-container {text-align: center;}#sk-container-id-1 div.sk-container {/* jupyter's `normalize.less` sets `[hidden] { display: none; }` but bootstrap.min.css set `[hidden] { display: none !important; }` so we also need the `!important` here to be able to override the default hidden behavior on the sphinx rendered scikit-learn.org. See: https://github.com/scikit-learn/scikit-learn/issues/21755 */display: inline-block !important;position: relative;}#sk-container-id-1 div.sk-text-repr-fallback {display: none;}</style><div id=\"sk-container-id-1\" class=\"sk-top-container\"><div class=\"sk-text-repr-fallback\"><pre>KNeighborsClassifier()</pre><b>In a Jupyter environment, please rerun this cell to show the HTML representation or trust the notebook. <br />On GitHub, the HTML representation is unable to render, please try loading this page with nbviewer.org.</b></div><div class=\"sk-container\" hidden><div class=\"sk-item\"><div class=\"sk-estimator sk-toggleable\"><input class=\"sk-toggleable__control sk-hidden--visually\" id=\"sk-estimator-id-1\" type=\"checkbox\" checked><label for=\"sk-estimator-id-1\" class=\"sk-toggleable__label sk-toggleable__label-arrow\">KNeighborsClassifier</label><div class=\"sk-toggleable__content\"><pre>KNeighborsClassifier()</pre></div></div></div></div></div>"
      ],
      "text/plain": [
       "KNeighborsClassifier()"
      ]
     },
     "execution_count": 15,
     "metadata": {},
     "output_type": "execute_result"
    }
   ],
   "source": [
    "knn = KNeighborsClassifier()\n",
    "knn.fit(X_train, Y_train) # treninranje modela\n"
   ]
  },
  {
   "cell_type": "code",
   "execution_count": 16,
   "id": "c12a2380",
   "metadata": {},
   "outputs": [
    {
     "name": "stdout",
     "output_type": "stream",
     "text": [
      "Classification report for model KNeighborsClassifier on training data\n",
      "---------------------------------------------------------------------------------\n",
      "              precision    recall  f1-score   support\n",
      "\n",
      "           0       0.89      0.96      0.92     79694\n",
      "           1       0.80      0.61      0.69     23008\n",
      "\n",
      "    accuracy                           0.88    102702\n",
      "   macro avg       0.85      0.78      0.81    102702\n",
      "weighted avg       0.87      0.88      0.87    102702\n",
      "\n",
      "---------------------------------------------------------------------------------\n",
      "Confusion matrix for model KNeighborsClassifier on training data \n",
      "---------------------------------------------------------------------------------\n",
      "        No    Yes\n",
      "No   76225   3469\n",
      "Yes   9077  13931\n",
      "---------------------------------------------------------------------------------\n"
     ]
    },
    {
     "data": {
      "image/png": "[encoded data removed]",
      "text/plain": [
       "<Figure size 432x288 with 2 Axes>"
      ]
     },
     "metadata": {
      "needs_background": "light"
     },
     "output_type": "display_data"
    }
   ],
   "source": [
    "report(knn, X_train, Y_train)\n"
   ]
  },
  {
   "cell_type": "markdown",
   "id": "db5120de",
   "metadata": {},
   "source": [
    "Na trening skupu ima tacnost od 0.87"
   ]
  },
  {
   "cell_type": "code",
   "execution_count": 17,
   "id": "9461ac62",
   "metadata": {},
   "outputs": [
    {
     "name": "stdout",
     "output_type": "stream",
     "text": [
      "Classification report for model KNeighborsClassifier on training data\n",
      "---------------------------------------------------------------------------------\n",
      "              precision    recall  f1-score   support\n",
      "\n",
      "           0       0.86      0.93      0.90     27580\n",
      "           1       0.67      0.49      0.57      7969\n",
      "\n",
      "    accuracy                           0.83     35549\n",
      "   macro avg       0.77      0.71      0.73     35549\n",
      "weighted avg       0.82      0.83      0.82     35549\n",
      "\n",
      "---------------------------------------------------------------------------------\n",
      "Confusion matrix for model KNeighborsClassifier on training data \n",
      "---------------------------------------------------------------------------------\n",
      "        No   Yes\n",
      "No   25662  1918\n",
      "Yes   4053  3916\n",
      "---------------------------------------------------------------------------------\n"
     ]
    },
    {
     "data": {
      "image/png": "[encoded data removed]",
      "text/plain": [
       "<Figure size 432x288 with 2 Axes>"
      ]
     },
     "metadata": {
      "needs_background": "light"
     },
     "output_type": "display_data"
    }
   ],
   "source": [
    "report(knn, X_test, Y_test)\n"
   ]
  },
  {
   "cell_type": "code",
   "execution_count": 18,
   "id": "82b49642",
   "metadata": {},
   "outputs": [],
   "source": [
    "def plot_imbalanced(X_train, y_train, X_resampled, y_resampled):\n",
    "    pca = PCA(n_components=2)\n",
    "    X_train_pca = pca.fit_transform(X_train)\n",
    "    \n",
    "    plt.subplot(1,2,1)\n",
    "    plt.scatter(X_train_pca[:,0], X_train_pca[:,1], c=y_train)\n",
    "    \n",
    "    X_resampled_pca = pca.transform(X_resampled)\n",
    "    plt.subplot(1,2,2)\n",
    "    plt.scatter(X_resampled_pca[:,0], X_resampled_pca[:,1], c=y_resampled)"
   ]
  },
  {
   "cell_type": "code",
   "execution_count": 19,
   "id": "9fc295fa",
   "metadata": {},
   "outputs": [],
   "source": [
    "def imbalanced_fit(X_train, y_train, X_test, y_test, sampler):\n",
    "    X_resampled, y_resampled = sampler.fit_resample(X_train, y_train)\n",
    "    print(f'X_resampled.shape={X_resampled.shape}')\n",
    "    print(f'y value counts = {y_resampled.value_counts()}')\n",
    "    \n",
    "    plot_imbalanced(X_train, y_train, X_resampled, y_resampled)\n",
    "    \n",
    "    model = KNeighborsClassifier()\n",
    "    model.fit(X_resampled, y_resampled)\n",
    "    \n",
    "    report(model, X_test,y_test,text=\"test\")\n",
    "    \n",
    "    return model"
   ]
  },
  {
   "cell_type": "code",
   "execution_count": 20,
   "id": "3f3cadf6",
   "metadata": {},
   "outputs": [
    {
     "name": "stdout",
     "output_type": "stream",
     "text": [
      "X_resampled.shape=(159388, 18)\n",
      "y value counts = 0    79694\n",
      "1    79694\n",
      "Name: RainTomorrow, dtype: int64\n",
      "Classification report for model KNeighborsClassifier on test data\n",
      "---------------------------------------------------------------------------------\n",
      "              precision    recall  f1-score   support\n",
      "\n",
      "           0       0.91      0.75      0.82     27580\n",
      "           1       0.47      0.74      0.57      7969\n",
      "\n",
      "    accuracy                           0.75     35549\n",
      "   macro avg       0.69      0.75      0.70     35549\n",
      "weighted avg       0.81      0.75      0.77     35549\n",
      "\n",
      "---------------------------------------------------------------------------------\n",
      "Confusion matrix for model KNeighborsClassifier on test data \n",
      "---------------------------------------------------------------------------------\n",
      "        No   Yes\n",
      "No   20782  6798\n",
      "Yes   2044  5925\n",
      "---------------------------------------------------------------------------------\n"
     ]
    },
    {
     "data": {
      "image/png": "[encoded data removed]",
      "text/plain": [
       "<Figure size 432x288 with 3 Axes>"
      ]
     },
     "metadata": {
      "needs_background": "light"
     },
     "output_type": "display_data"
    }
   ],
   "source": [
    "model_smote = imbalanced_fit(X_train, Y_train, X_test, Y_test, SMOTE())\n"
   ]
  },
  {
   "cell_type": "code",
   "execution_count": 21,
   "id": "d837b092",
   "metadata": {},
   "outputs": [
    {
     "name": "stdout",
     "output_type": "stream",
     "text": [
      "X_resampled.shape=(46016, 18)\n",
      "y value counts = 0    23008\n",
      "1    23008\n",
      "Name: RainTomorrow, dtype: int64\n",
      "Classification report for model KNeighborsClassifier on test data\n",
      "---------------------------------------------------------------------------------\n",
      "              precision    recall  f1-score   support\n",
      "\n",
      "           0       0.91      0.77      0.84     27580\n",
      "           1       0.48      0.75      0.59      7969\n",
      "\n",
      "    accuracy                           0.76     35549\n",
      "   macro avg       0.70      0.76      0.71     35549\n",
      "weighted avg       0.82      0.76      0.78     35549\n",
      "\n",
      "---------------------------------------------------------------------------------\n",
      "Confusion matrix for model KNeighborsClassifier on test data \n",
      "---------------------------------------------------------------------------------\n",
      "        No   Yes\n",
      "No   21197  6383\n",
      "Yes   1982  5987\n",
      "---------------------------------------------------------------------------------\n"
     ]
    },
    {
     "data": {
      "image/png": "[encoded data removed]",
      "text/plain": [
       "<Figure size 432x288 with 3 Axes>"
      ]
     },
     "metadata": {
      "needs_background": "light"
     },
     "output_type": "display_data"
    }
   ],
   "source": [
    "model_under = imbalanced_fit(X_train, Y_train, X_test, Y_test, RandomUnderSampler())\n"
   ]
  },
  {
   "cell_type": "markdown",
   "id": "2fea7396",
   "metadata": {},
   "source": [
    "# Hiper-parametri"
   ]
  },
  {
   "cell_type": "code",
   "execution_count": 22,
   "id": "85e1558c",
   "metadata": {},
   "outputs": [],
   "source": [
    "params_grid = {'n_neighbors': range(5, 25, 5),\n",
    "               'weights': ['uniform', 'distance'],\n",
    "               'metric': ['euclidean', 'manhattan']}\n",
    "\n",
    "#estimator = GridSearchCV(KNeighborsClassifier(), params_grid, cv=6)\n",
    "estimator = GridSearchCV(model_smote, params_grid, cv=5, verbose=4,scoring='recall')\n"
   ]
  },
  {
   "cell_type": "code",
   "execution_count": 23,
   "id": "82d27a0f",
   "metadata": {},
   "outputs": [
    {
     "name": "stdout",
     "output_type": "stream",
     "text": [
      "Fitting 5 folds for each of 16 candidates, totalling 80 fits\n",
      "[CV 1/5] END metric=euclidean, n_neighbors=5, weights=uniform;, score=0.485 total time=   4.6s\n",
      "[CV 2/5] END metric=euclidean, n_neighbors=5, weights=uniform;, score=0.487 total time=   4.5s\n",
      "[CV 3/5] END metric=euclidean, n_neighbors=5, weights=uniform;, score=0.486 total time=   4.5s\n",
      "[CV 4/5] END metric=euclidean, n_neighbors=5, weights=uniform;, score=0.496 total time=   4.5s\n",
      "[CV 5/5] END metric=euclidean, n_neighbors=5, weights=uniform;, score=0.491 total time=   4.5s\n",
      "[CV 1/5] END metric=euclidean, n_neighbors=5, weights=distance;, score=0.485 total time=   3.9s\n",
      "[CV 2/5] END metric=euclidean, n_neighbors=5, weights=distance;, score=0.489 total time=   3.9s\n",
      "[CV 3/5] END metric=euclidean, n_neighbors=5, weights=distance;, score=0.488 total time=   4.2s\n",
      "[CV 4/5] END metric=euclidean, n_neighbors=5, weights=distance;, score=0.498 total time=   3.9s\n",
      "[CV 5/5] END metric=euclidean, n_neighbors=5, weights=distance;, score=0.492 total time=   3.9s\n",
      "[CV 1/5] END metric=euclidean, n_neighbors=10, weights=uniform;, score=0.423 total time=   4.7s\n",
      "[CV 2/5] END metric=euclidean, n_neighbors=10, weights=uniform;, score=0.427 total time=   4.9s\n",
      "[CV 3/5] END metric=euclidean, n_neighbors=10, weights=uniform;, score=0.415 total time=   4.9s\n",
      "[CV 4/5] END metric=euclidean, n_neighbors=10, weights=uniform;, score=0.430 total time=   4.7s\n",
      "[CV 5/5] END metric=euclidean, n_neighbors=10, weights=uniform;, score=0.430 total time=   4.8s\n",
      "[CV 1/5] END metric=euclidean, n_neighbors=10, weights=distance;, score=0.479 total time=   4.0s\n",
      "[CV 2/5] END metric=euclidean, n_neighbors=10, weights=distance;, score=0.486 total time=   4.5s\n",
      "[CV 3/5] END metric=euclidean, n_neighbors=10, weights=distance;, score=0.474 total time=   4.3s\n",
      "[CV 4/5] END metric=euclidean, n_neighbors=10, weights=distance;, score=0.485 total time=   4.0s\n",
      "[CV 5/5] END metric=euclidean, n_neighbors=10, weights=distance;, score=0.482 total time=   4.0s\n",
      "[CV 1/5] END metric=euclidean, n_neighbors=15, weights=uniform;, score=0.459 total time=   4.8s\n",
      "[CV 2/5] END metric=euclidean, n_neighbors=15, weights=uniform;, score=0.464 total time=   4.7s\n",
      "[CV 3/5] END metric=euclidean, n_neighbors=15, weights=uniform;, score=0.450 total time=   4.7s\n",
      "[CV 4/5] END metric=euclidean, n_neighbors=15, weights=uniform;, score=0.479 total time=   4.7s\n",
      "[CV 5/5] END metric=euclidean, n_neighbors=15, weights=uniform;, score=0.472 total time=   4.9s\n",
      "[CV 1/5] END metric=euclidean, n_neighbors=15, weights=distance;, score=0.461 total time=   4.1s\n",
      "[CV 2/5] END metric=euclidean, n_neighbors=15, weights=distance;, score=0.465 total time=   4.1s\n",
      "[CV 3/5] END metric=euclidean, n_neighbors=15, weights=distance;, score=0.451 total time=   4.1s\n",
      "[CV 4/5] END metric=euclidean, n_neighbors=15, weights=distance;, score=0.479 total time=   4.1s\n",
      "[CV 5/5] END metric=euclidean, n_neighbors=15, weights=distance;, score=0.473 total time=   4.2s\n",
      "[CV 1/5] END metric=euclidean, n_neighbors=20, weights=uniform;, score=0.432 total time=   4.9s\n",
      "[CV 2/5] END metric=euclidean, n_neighbors=20, weights=uniform;, score=0.428 total time=   4.9s\n",
      "[CV 3/5] END metric=euclidean, n_neighbors=20, weights=uniform;, score=0.419 total time=   4.8s\n",
      "[CV 4/5] END metric=euclidean, n_neighbors=20, weights=uniform;, score=0.441 total time=   4.8s\n",
      "[CV 5/5] END metric=euclidean, n_neighbors=20, weights=uniform;, score=0.440 total time=   4.9s\n",
      "[CV 1/5] END metric=euclidean, n_neighbors=20, weights=distance;, score=0.465 total time=   4.4s\n",
      "[CV 2/5] END metric=euclidean, n_neighbors=20, weights=distance;, score=0.459 total time=   4.4s\n",
      "[CV 3/5] END metric=euclidean, n_neighbors=20, weights=distance;, score=0.451 total time=   4.7s\n",
      "[CV 4/5] END metric=euclidean, n_neighbors=20, weights=distance;, score=0.471 total time=   4.3s\n",
      "[CV 5/5] END metric=euclidean, n_neighbors=20, weights=distance;, score=0.471 total time=   4.1s\n",
      "[CV 1/5] END metric=manhattan, n_neighbors=5, weights=uniform;, score=0.483 total time=  21.1s\n",
      "[CV 2/5] END metric=manhattan, n_neighbors=5, weights=uniform;, score=0.494 total time=  20.5s\n",
      "[CV 3/5] END metric=manhattan, n_neighbors=5, weights=uniform;, score=0.479 total time=  17.3s\n",
      "[CV 4/5] END metric=manhattan, n_neighbors=5, weights=uniform;, score=0.496 total time=  17.3s\n",
      "[CV 5/5] END metric=manhattan, n_neighbors=5, weights=uniform;, score=0.497 total time=  17.9s\n",
      "[CV 1/5] END metric=manhattan, n_neighbors=5, weights=distance;, score=0.484 total time=  16.7s\n",
      "[CV 2/5] END metric=manhattan, n_neighbors=5, weights=distance;, score=0.498 total time=  16.6s\n",
      "[CV 3/5] END metric=manhattan, n_neighbors=5, weights=distance;, score=0.482 total time=  16.6s\n",
      "[CV 4/5] END metric=manhattan, n_neighbors=5, weights=distance;, score=0.498 total time=  16.5s\n",
      "[CV 5/5] END metric=manhattan, n_neighbors=5, weights=distance;, score=0.498 total time=  16.5s\n",
      "[CV 1/5] END metric=manhattan, n_neighbors=10, weights=uniform;, score=0.420 total time=  17.1s\n",
      "[CV 2/5] END metric=manhattan, n_neighbors=10, weights=uniform;, score=0.429 total time=  17.1s\n",
      "[CV 3/5] END metric=manhattan, n_neighbors=10, weights=uniform;, score=0.414 total time=  17.1s\n",
      "[CV 4/5] END metric=manhattan, n_neighbors=10, weights=uniform;, score=0.430 total time=  17.1s\n",
      "[CV 5/5] END metric=manhattan, n_neighbors=10, weights=uniform;, score=0.427 total time=  17.2s\n",
      "[CV 1/5] END metric=manhattan, n_neighbors=10, weights=distance;, score=0.474 total time=  16.7s\n",
      "[CV 2/5] END metric=manhattan, n_neighbors=10, weights=distance;, score=0.487 total time=  16.7s\n",
      "[CV 3/5] END metric=manhattan, n_neighbors=10, weights=distance;, score=0.471 total time=  16.7s\n",
      "[CV 4/5] END metric=manhattan, n_neighbors=10, weights=distance;, score=0.486 total time=  16.6s\n",
      "[CV 5/5] END metric=manhattan, n_neighbors=10, weights=distance;, score=0.490 total time=  16.4s\n",
      "[CV 1/5] END metric=manhattan, n_neighbors=15, weights=uniform;, score=0.464 total time=  17.1s\n",
      "[CV 2/5] END metric=manhattan, n_neighbors=15, weights=uniform;, score=0.466 total time=  17.1s\n",
      "[CV 3/5] END metric=manhattan, n_neighbors=15, weights=uniform;, score=0.455 total time=  17.2s\n",
      "[CV 4/5] END metric=manhattan, n_neighbors=15, weights=uniform;, score=0.476 total time=  17.1s\n",
      "[CV 5/5] END metric=manhattan, n_neighbors=15, weights=uniform;, score=0.473 total time=  17.3s\n",
      "[CV 1/5] END metric=manhattan, n_neighbors=15, weights=distance;, score=0.466 total time=  16.7s\n",
      "[CV 2/5] END metric=manhattan, n_neighbors=15, weights=distance;, score=0.469 total time=  16.6s\n",
      "[CV 3/5] END metric=manhattan, n_neighbors=15, weights=distance;, score=0.457 total time=  16.6s\n",
      "[CV 4/5] END metric=manhattan, n_neighbors=15, weights=distance;, score=0.479 total time=  16.6s\n",
      "[CV 5/5] END metric=manhattan, n_neighbors=15, weights=distance;, score=0.478 total time=  16.5s\n",
      "[CV 1/5] END metric=manhattan, n_neighbors=20, weights=uniform;, score=0.426 total time=  17.2s\n",
      "[CV 2/5] END metric=manhattan, n_neighbors=20, weights=uniform;, score=0.437 total time=  17.2s\n",
      "[CV 3/5] END metric=manhattan, n_neighbors=20, weights=uniform;, score=0.420 total time=  17.3s\n",
      "[CV 4/5] END metric=manhattan, n_neighbors=20, weights=uniform;, score=0.429 total time=  17.3s\n",
      "[CV 5/5] END metric=manhattan, n_neighbors=20, weights=uniform;, score=0.437 total time=  17.3s\n",
      "[CV 1/5] END metric=manhattan, n_neighbors=20, weights=distance;, score=0.460 total time=  16.7s\n",
      "[CV 2/5] END metric=manhattan, n_neighbors=20, weights=distance;, score=0.466 total time=  16.7s\n",
      "[CV 3/5] END metric=manhattan, n_neighbors=20, weights=distance;, score=0.453 total time=  16.7s\n",
      "[CV 4/5] END metric=manhattan, n_neighbors=20, weights=distance;, score=0.470 total time=  16.7s\n",
      "[CV 5/5] END metric=manhattan, n_neighbors=20, weights=distance;, score=0.471 total time=  16.7s\n"
     ]
    },
    {
     "data": {
      "text/html": [
       "<style>#sk-container-id-2 {color: black;background-color: white;}#sk-container-id-2 pre{padding: 0;}#sk-container-id-2 div.sk-toggleable {background-color: white;}#sk-container-id-2 label.sk-toggleable__label {cursor: pointer;display: block;width: 100%;margin-bottom: 0;padding: 0.3em;box-sizing: border-box;text-align: center;}#sk-container-id-2 label.sk-toggleable__label-arrow:before {content: \"▸\";float: left;margin-right: 0.25em;color: #696969;}#sk-container-id-2 label.sk-toggleable__label-arrow:hover:before {color: black;}#sk-container-id-2 div.sk-estimator:hover label.sk-toggleable__label-arrow:before {color: black;}#sk-container-id-2 div.sk-toggleable__content {max-height: 0;max-width: 0;overflow: hidden;text-align: left;background-color: #f0f8ff;}#sk-container-id-2 div.sk-toggleable__content pre {margin: 0.2em;color: black;border-radius: 0.25em;background-color: #f0f8ff;}#sk-container-id-2 input.sk-toggleable__control:checked~div.sk-toggleable__content {max-height: 200px;max-width: 100%;overflow: auto;}#sk-container-id-2 input.sk-toggleable__control:checked~label.sk-toggleable__label-arrow:before {content: \"▾\";}#sk-container-id-2 div.sk-estimator input.sk-toggleable__control:checked~label.sk-toggleable__label {background-color: #d4ebff;}#sk-container-id-2 div.sk-label input.sk-toggleable__control:checked~label.sk-toggleable__label {background-color: #d4ebff;}#sk-container-id-2 input.sk-hidden--visually {border: 0;clip: rect(1px 1px 1px 1px);clip: rect(1px, 1px, 1px, 1px);height: 1px;margin: -1px;overflow: hidden;padding: 0;position: absolute;width: 1px;}#sk-container-id-2 div.sk-estimator {font-family: monospace;background-color: #f0f8ff;border: 1px dotted black;border-radius: 0.25em;box-sizing: border-box;margin-bottom: 0.5em;}#sk-container-id-2 div.sk-estimator:hover {background-color: #d4ebff;}#sk-container-id-2 div.sk-parallel-item::after {content: \"\";width: 100%;border-bottom: 1px solid gray;flex-grow: 1;}#sk-container-id-2 div.sk-label:hover label.sk-toggleable__label {background-color: #d4ebff;}#sk-container-id-2 div.sk-serial::before {content: \"\";position: absolute;border-left: 1px solid gray;box-sizing: border-box;top: 0;bottom: 0;left: 50%;z-index: 0;}#sk-container-id-2 div.sk-serial {display: flex;flex-direction: column;align-items: center;background-color: white;padding-right: 0.2em;padding-left: 0.2em;position: relative;}#sk-container-id-2 div.sk-item {position: relative;z-index: 1;}#sk-container-id-2 div.sk-parallel {display: flex;align-items: stretch;justify-content: center;background-color: white;position: relative;}#sk-container-id-2 div.sk-item::before, #sk-container-id-2 div.sk-parallel-item::before {content: \"\";position: absolute;border-left: 1px solid gray;box-sizing: border-box;top: 0;bottom: 0;left: 50%;z-index: -1;}#sk-container-id-2 div.sk-parallel-item {display: flex;flex-direction: column;z-index: 1;position: relative;background-color: white;}#sk-container-id-2 div.sk-parallel-item:first-child::after {align-self: flex-end;width: 50%;}#sk-container-id-2 div.sk-parallel-item:last-child::after {align-self: flex-start;width: 50%;}#sk-container-id-2 div.sk-parallel-item:only-child::after {width: 0;}#sk-container-id-2 div.sk-dashed-wrapped {border: 1px dashed gray;margin: 0 0.4em 0.5em 0.4em;box-sizing: border-box;padding-bottom: 0.4em;background-color: white;}#sk-container-id-2 div.sk-label label {font-family: monospace;font-weight: bold;display: inline-block;line-height: 1.2em;}#sk-container-id-2 div.sk-label-container {text-align: center;}#sk-container-id-2 div.sk-container {/* jupyter's `normalize.less` sets `[hidden] { display: none; }` but bootstrap.min.css set `[hidden] { display: none !important; }` so we also need the `!important` here to be able to override the default hidden behavior on the sphinx rendered scikit-learn.org. See: https://github.com/scikit-learn/scikit-learn/issues/21755 */display: inline-block !important;position: relative;}#sk-container-id-2 div.sk-text-repr-fallback {display: none;}</style><div id=\"sk-container-id-2\" class=\"sk-top-container\"><div class=\"sk-text-repr-fallback\"><pre>GridSearchCV(cv=5, estimator=KNeighborsClassifier(),\n",
       "             param_grid={&#x27;metric&#x27;: [&#x27;euclidean&#x27;, &#x27;manhattan&#x27;],\n",
       "                         &#x27;n_neighbors&#x27;: range(5, 25, 5),\n",
       "                         &#x27;weights&#x27;: [&#x27;uniform&#x27;, &#x27;distance&#x27;]},\n",
       "             scoring=&#x27;recall&#x27;, verbose=4)</pre><b>In a Jupyter environment, please rerun this cell to show the HTML representation or trust the notebook. <br />On GitHub, the HTML representation is unable to render, please try loading this page with nbviewer.org.</b></div><div class=\"sk-container\" hidden><div class=\"sk-item sk-dashed-wrapped\"><div class=\"sk-label-container\"><div class=\"sk-label sk-toggleable\"><input class=\"sk-toggleable__control sk-hidden--visually\" id=\"sk-estimator-id-2\" type=\"checkbox\" ><label for=\"sk-estimator-id-2\" class=\"sk-toggleable__label sk-toggleable__label-arrow\">GridSearchCV</label><div class=\"sk-toggleable__content\"><pre>GridSearchCV(cv=5, estimator=KNeighborsClassifier(),\n",
       "             param_grid={&#x27;metric&#x27;: [&#x27;euclidean&#x27;, &#x27;manhattan&#x27;],\n",
       "                         &#x27;n_neighbors&#x27;: range(5, 25, 5),\n",
       "                         &#x27;weights&#x27;: [&#x27;uniform&#x27;, &#x27;distance&#x27;]},\n",
       "             scoring=&#x27;recall&#x27;, verbose=4)</pre></div></div></div><div class=\"sk-parallel\"><div class=\"sk-parallel-item\"><div class=\"sk-item\"><div class=\"sk-label-container\"><div class=\"sk-label sk-toggleable\"><input class=\"sk-toggleable__control sk-hidden--visually\" id=\"sk-estimator-id-3\" type=\"checkbox\" ><label for=\"sk-estimator-id-3\" class=\"sk-toggleable__label sk-toggleable__label-arrow\">estimator: KNeighborsClassifier</label><div class=\"sk-toggleable__content\"><pre>KNeighborsClassifier()</pre></div></div></div><div class=\"sk-serial\"><div class=\"sk-item\"><div class=\"sk-estimator sk-toggleable\"><input class=\"sk-toggleable__control sk-hidden--visually\" id=\"sk-estimator-id-4\" type=\"checkbox\" ><label for=\"sk-estimator-id-4\" class=\"sk-toggleable__label sk-toggleable__label-arrow\">KNeighborsClassifier</label><div class=\"sk-toggleable__content\"><pre>KNeighborsClassifier()</pre></div></div></div></div></div></div></div></div></div></div>"
      ],
      "text/plain": [
       "GridSearchCV(cv=5, estimator=KNeighborsClassifier(),\n",
       "             param_grid={'metric': ['euclidean', 'manhattan'],\n",
       "                         'n_neighbors': range(5, 25, 5),\n",
       "                         'weights': ['uniform', 'distance']},\n",
       "             scoring='recall', verbose=4)"
      ]
     },
     "execution_count": 23,
     "metadata": {},
     "output_type": "execute_result"
    }
   ],
   "source": [
    "estimator.fit(X_train, Y_train)"
   ]
  },
  {
   "cell_type": "code",
   "execution_count": 24,
   "id": "837c82d1",
   "metadata": {},
   "outputs": [
    {
     "name": "stdout",
     "output_type": "stream",
     "text": [
      "{'metric': 'manhattan', 'n_neighbors': 5, 'weights': 'distance'}\n"
     ]
    }
   ],
   "source": [
    "#estimator.best_params_\n",
    "print(estimator.best_params_)\n"
   ]
  },
  {
   "cell_type": "code",
   "execution_count": 25,
   "id": "4e58e674",
   "metadata": {},
   "outputs": [
    {
     "data": {
      "text/plain": [
       "0.49235030156605786"
      ]
     },
     "execution_count": 25,
     "metadata": {},
     "output_type": "execute_result"
    }
   ],
   "source": [
    "estimator.best_score_\n"
   ]
  },
  {
   "cell_type": "code",
   "execution_count": 26,
   "id": "613db78e",
   "metadata": {},
   "outputs": [
    {
     "name": "stdout",
     "output_type": "stream",
     "text": [
      "Classification report for model KNeighborsClassifier on training data\n",
      "---------------------------------------------------------------------------------\n",
      "              precision    recall  f1-score   support\n",
      "\n",
      "           0       1.00      1.00      1.00     79694\n",
      "           1       1.00      1.00      1.00     23008\n",
      "\n",
      "    accuracy                           1.00    102702\n",
      "   macro avg       1.00      1.00      1.00    102702\n",
      "weighted avg       1.00      1.00      1.00    102702\n",
      "\n",
      "---------------------------------------------------------------------------------\n",
      "Confusion matrix for model KNeighborsClassifier on training data \n",
      "---------------------------------------------------------------------------------\n",
      "        No    Yes\n",
      "No   79694      0\n",
      "Yes      2  23006\n",
      "---------------------------------------------------------------------------------\n"
     ]
    },
    {
     "data": {
      "image/png": "[encoded data removed]",
      "text/plain": [
       "<Figure size 432x288 with 2 Axes>"
      ]
     },
     "metadata": {
      "needs_background": "light"
     },
     "output_type": "display_data"
    }
   ],
   "source": [
    "report(estimator.best_estimator_, X_train, Y_train)\n"
   ]
  },
  {
   "cell_type": "markdown",
   "id": "206ba11b",
   "metadata": {},
   "source": [
    "Imamo preciznost 1 na trening skupu, da li je doslo do preprilagodjavanja?"
   ]
  },
  {
   "cell_type": "code",
   "execution_count": 27,
   "id": "711d130e",
   "metadata": {},
   "outputs": [
    {
     "name": "stdout",
     "output_type": "stream",
     "text": [
      "Classification report for model KNeighborsClassifier on test data\n",
      "---------------------------------------------------------------------------------\n",
      "              precision    recall  f1-score   support\n",
      "\n",
      "           0       0.86      0.94      0.90     27580\n",
      "           1       0.69      0.49      0.57      7969\n",
      "\n",
      "    accuracy                           0.84     35549\n",
      "   macro avg       0.77      0.71      0.73     35549\n",
      "weighted avg       0.82      0.84      0.82     35549\n",
      "\n",
      "---------------------------------------------------------------------------------\n",
      "Confusion matrix for model KNeighborsClassifier on test data \n",
      "---------------------------------------------------------------------------------\n",
      "        No   Yes\n",
      "No   25796  1784\n",
      "Yes   4068  3901\n",
      "---------------------------------------------------------------------------------\n"
     ]
    },
    {
     "data": {
      "image/png": "[encoded data removed]",
      "text/plain": [
       "<Figure size 432x288 with 2 Axes>"
      ]
     },
     "metadata": {
      "needs_background": "light"
     },
     "output_type": "display_data"
    }
   ],
   "source": [
    "report(estimator.best_estimator_, X_test, Y_test,text=\"test\")\n"
   ]
  },
  {
   "cell_type": "code",
   "execution_count": 28,
   "id": "6b835a1f",
   "metadata": {},
   "outputs": [
    {
     "data": {
      "image/png": "[encoded data removed]",
      "text/plain": [
       "<Figure size 432x288 with 1 Axes>"
      ]
     },
     "metadata": {
      "needs_background": "light"
     },
     "output_type": "display_data"
    }
   ],
   "source": [
    "from sklearn.metrics import roc_curve, roc_auc_score\n",
    "models = [knn, model_under, estimator.best_estimator_,model_smote]\n",
    "model_names = ['knn', 'model_under', 'estimator.best_estimator','model_smote']\n",
    "for model, model_name in zip(models, model_names):\n",
    "    y_pred = model.predict(X_test)\n",
    "    fpr,tpr, _ = roc_curve(Y_test, y_pred)\n",
    "    auc = roc_auc_score(Y_test, y_pred)\n",
    "    lab = model_name + \"(auc: \" + str(round(auc, 2)) + \")\"\n",
    "    plt.plot(fpr, tpr, label=lab)\n",
    "\n",
    "plt.plot([0, 1], [0, 1], label='Random (auc: 0.5)', color='red')\n",
    "plt.title(\"Poređenje modela\")\n",
    "plt.legend()\n",
    "plt.show()"
   ]
  },
  {
   "cell_type": "code",
   "execution_count": 29,
   "id": "e947ac4b",
   "metadata": {},
   "outputs": [],
   "source": [
    "with open('ModelUnderKNN.pkl', 'wb') as file:  \n",
    "    joblib.dump(model_under, file)"
   ]
  },
  {
   "cell_type": "code",
   "execution_count": 30,
   "id": "2108a507",
   "metadata": {},
   "outputs": [],
   "source": [
    "with open('EstimatorBestKNN.pkl', 'wb') as file:  \n",
    "    joblib.dump(estimator.best_estimator_, file)"
   ]
  },
  {
   "cell_type": "markdown",
   "id": "91e0cbc3",
   "metadata": {},
   "source": [
    "Poredjenje stabla i KNN:"
   ]
  },
  {
   "cell_type": "code",
   "execution_count": 31,
   "id": "64861d62",
   "metadata": {},
   "outputs": [
    {
     "data": {
      "text/html": [
       "<style>#sk-container-id-3 {color: black;background-color: white;}#sk-container-id-3 pre{padding: 0;}#sk-container-id-3 div.sk-toggleable {background-color: white;}#sk-container-id-3 label.sk-toggleable__label {cursor: pointer;display: block;width: 100%;margin-bottom: 0;padding: 0.3em;box-sizing: border-box;text-align: center;}#sk-container-id-3 label.sk-toggleable__label-arrow:before {content: \"▸\";float: left;margin-right: 0.25em;color: #696969;}#sk-container-id-3 label.sk-toggleable__label-arrow:hover:before {color: black;}#sk-container-id-3 div.sk-estimator:hover label.sk-toggleable__label-arrow:before {color: black;}#sk-container-id-3 div.sk-toggleable__content {max-height: 0;max-width: 0;overflow: hidden;text-align: left;background-color: #f0f8ff;}#sk-container-id-3 div.sk-toggleable__content pre {margin: 0.2em;color: black;border-radius: 0.25em;background-color: #f0f8ff;}#sk-container-id-3 input.sk-toggleable__control:checked~div.sk-toggleable__content {max-height: 200px;max-width: 100%;overflow: auto;}#sk-container-id-3 input.sk-toggleable__control:checked~label.sk-toggleable__label-arrow:before {content: \"▾\";}#sk-container-id-3 div.sk-estimator input.sk-toggleable__control:checked~label.sk-toggleable__label {background-color: #d4ebff;}#sk-container-id-3 div.sk-label input.sk-toggleable__control:checked~label.sk-toggleable__label {background-color: #d4ebff;}#sk-container-id-3 input.sk-hidden--visually {border: 0;clip: rect(1px 1px 1px 1px);clip: rect(1px, 1px, 1px, 1px);height: 1px;margin: -1px;overflow: hidden;padding: 0;position: absolute;width: 1px;}#sk-container-id-3 div.sk-estimator {font-family: monospace;background-color: #f0f8ff;border: 1px dotted black;border-radius: 0.25em;box-sizing: border-box;margin-bottom: 0.5em;}#sk-container-id-3 div.sk-estimator:hover {background-color: #d4ebff;}#sk-container-id-3 div.sk-parallel-item::after {content: \"\";width: 100%;border-bottom: 1px solid gray;flex-grow: 1;}#sk-container-id-3 div.sk-label:hover label.sk-toggleable__label {background-color: #d4ebff;}#sk-container-id-3 div.sk-serial::before {content: \"\";position: absolute;border-left: 1px solid gray;box-sizing: border-box;top: 0;bottom: 0;left: 50%;z-index: 0;}#sk-container-id-3 div.sk-serial {display: flex;flex-direction: column;align-items: center;background-color: white;padding-right: 0.2em;padding-left: 0.2em;position: relative;}#sk-container-id-3 div.sk-item {position: relative;z-index: 1;}#sk-container-id-3 div.sk-parallel {display: flex;align-items: stretch;justify-content: center;background-color: white;position: relative;}#sk-container-id-3 div.sk-item::before, #sk-container-id-3 div.sk-parallel-item::before {content: \"\";position: absolute;border-left: 1px solid gray;box-sizing: border-box;top: 0;bottom: 0;left: 50%;z-index: -1;}#sk-container-id-3 div.sk-parallel-item {display: flex;flex-direction: column;z-index: 1;position: relative;background-color: white;}#sk-container-id-3 div.sk-parallel-item:first-child::after {align-self: flex-end;width: 50%;}#sk-container-id-3 div.sk-parallel-item:last-child::after {align-self: flex-start;width: 50%;}#sk-container-id-3 div.sk-parallel-item:only-child::after {width: 0;}#sk-container-id-3 div.sk-dashed-wrapped {border: 1px dashed gray;margin: 0 0.4em 0.5em 0.4em;box-sizing: border-box;padding-bottom: 0.4em;background-color: white;}#sk-container-id-3 div.sk-label label {font-family: monospace;font-weight: bold;display: inline-block;line-height: 1.2em;}#sk-container-id-3 div.sk-label-container {text-align: center;}#sk-container-id-3 div.sk-container {/* jupyter's `normalize.less` sets `[hidden] { display: none; }` but bootstrap.min.css set `[hidden] { display: none !important; }` so we also need the `!important` here to be able to override the default hidden behavior on the sphinx rendered scikit-learn.org. See: https://github.com/scikit-learn/scikit-learn/issues/21755 */display: inline-block !important;position: relative;}#sk-container-id-3 div.sk-text-repr-fallback {display: none;}</style><div id=\"sk-container-id-3\" class=\"sk-top-container\"><div class=\"sk-text-repr-fallback\"><pre>DecisionTreeClassifier(class_weight=&#x27;balanced&#x27;, max_depth=10, random_state=42)</pre><b>In a Jupyter environment, please rerun this cell to show the HTML representation or trust the notebook. <br />On GitHub, the HTML representation is unable to render, please try loading this page with nbviewer.org.</b></div><div class=\"sk-container\" hidden><div class=\"sk-item\"><div class=\"sk-estimator sk-toggleable\"><input class=\"sk-toggleable__control sk-hidden--visually\" id=\"sk-estimator-id-5\" type=\"checkbox\" checked><label for=\"sk-estimator-id-5\" class=\"sk-toggleable__label sk-toggleable__label-arrow\">DecisionTreeClassifier</label><div class=\"sk-toggleable__content\"><pre>DecisionTreeClassifier(class_weight=&#x27;balanced&#x27;, max_depth=10, random_state=42)</pre></div></div></div></div></div>"
      ],
      "text/plain": [
       "DecisionTreeClassifier(class_weight='balanced', max_depth=10, random_state=42)"
      ]
     },
     "execution_count": 31,
     "metadata": {},
     "output_type": "execute_result"
    }
   ],
   "source": [
    "tree = joblib.load('BestEstimator.pkl')\n",
    "tree.fit(X_train,Y_train)"
   ]
  },
  {
   "cell_type": "code",
   "execution_count": null,
   "id": "33df6d78",
   "metadata": {},
   "outputs": [],
   "source": []
  },
  {
   "cell_type": "code",
   "execution_count": 32,
   "id": "bd09a36f",
   "metadata": {},
   "outputs": [
    {
     "data": {
      "text/html": [
       "<style>#sk-container-id-4 {color: black;background-color: white;}#sk-container-id-4 pre{padding: 0;}#sk-container-id-4 div.sk-toggleable {background-color: white;}#sk-container-id-4 label.sk-toggleable__label {cursor: pointer;display: block;width: 100%;margin-bottom: 0;padding: 0.3em;box-sizing: border-box;text-align: center;}#sk-container-id-4 label.sk-toggleable__label-arrow:before {content: \"▸\";float: left;margin-right: 0.25em;color: #696969;}#sk-container-id-4 label.sk-toggleable__label-arrow:hover:before {color: black;}#sk-container-id-4 div.sk-estimator:hover label.sk-toggleable__label-arrow:before {color: black;}#sk-container-id-4 div.sk-toggleable__content {max-height: 0;max-width: 0;overflow: hidden;text-align: left;background-color: #f0f8ff;}#sk-container-id-4 div.sk-toggleable__content pre {margin: 0.2em;color: black;border-radius: 0.25em;background-color: #f0f8ff;}#sk-container-id-4 input.sk-toggleable__control:checked~div.sk-toggleable__content {max-height: 200px;max-width: 100%;overflow: auto;}#sk-container-id-4 input.sk-toggleable__control:checked~label.sk-toggleable__label-arrow:before {content: \"▾\";}#sk-container-id-4 div.sk-estimator input.sk-toggleable__control:checked~label.sk-toggleable__label {background-color: #d4ebff;}#sk-container-id-4 div.sk-label input.sk-toggleable__control:checked~label.sk-toggleable__label {background-color: #d4ebff;}#sk-container-id-4 input.sk-hidden--visually {border: 0;clip: rect(1px 1px 1px 1px);clip: rect(1px, 1px, 1px, 1px);height: 1px;margin: -1px;overflow: hidden;padding: 0;position: absolute;width: 1px;}#sk-container-id-4 div.sk-estimator {font-family: monospace;background-color: #f0f8ff;border: 1px dotted black;border-radius: 0.25em;box-sizing: border-box;margin-bottom: 0.5em;}#sk-container-id-4 div.sk-estimator:hover {background-color: #d4ebff;}#sk-container-id-4 div.sk-parallel-item::after {content: \"\";width: 100%;border-bottom: 1px solid gray;flex-grow: 1;}#sk-container-id-4 div.sk-label:hover label.sk-toggleable__label {background-color: #d4ebff;}#sk-container-id-4 div.sk-serial::before {content: \"\";position: absolute;border-left: 1px solid gray;box-sizing: border-box;top: 0;bottom: 0;left: 50%;z-index: 0;}#sk-container-id-4 div.sk-serial {display: flex;flex-direction: column;align-items: center;background-color: white;padding-right: 0.2em;padding-left: 0.2em;position: relative;}#sk-container-id-4 div.sk-item {position: relative;z-index: 1;}#sk-container-id-4 div.sk-parallel {display: flex;align-items: stretch;justify-content: center;background-color: white;position: relative;}#sk-container-id-4 div.sk-item::before, #sk-container-id-4 div.sk-parallel-item::before {content: \"\";position: absolute;border-left: 1px solid gray;box-sizing: border-box;top: 0;bottom: 0;left: 50%;z-index: -1;}#sk-container-id-4 div.sk-parallel-item {display: flex;flex-direction: column;z-index: 1;position: relative;background-color: white;}#sk-container-id-4 div.sk-parallel-item:first-child::after {align-self: flex-end;width: 50%;}#sk-container-id-4 div.sk-parallel-item:last-child::after {align-self: flex-start;width: 50%;}#sk-container-id-4 div.sk-parallel-item:only-child::after {width: 0;}#sk-container-id-4 div.sk-dashed-wrapped {border: 1px dashed gray;margin: 0 0.4em 0.5em 0.4em;box-sizing: border-box;padding-bottom: 0.4em;background-color: white;}#sk-container-id-4 div.sk-label label {font-family: monospace;font-weight: bold;display: inline-block;line-height: 1.2em;}#sk-container-id-4 div.sk-label-container {text-align: center;}#sk-container-id-4 div.sk-container {/* jupyter's `normalize.less` sets `[hidden] { display: none; }` but bootstrap.min.css set `[hidden] { display: none !important; }` so we also need the `!important` here to be able to override the default hidden behavior on the sphinx rendered scikit-learn.org. See: https://github.com/scikit-learn/scikit-learn/issues/21755 */display: inline-block !important;position: relative;}#sk-container-id-4 div.sk-text-repr-fallback {display: none;}</style><div id=\"sk-container-id-4\" class=\"sk-top-container\"><div class=\"sk-text-repr-fallback\"><pre>DecisionTreeClassifier(class_weight=&#x27;balanced&#x27;, max_depth=10, random_state=42)</pre><b>In a Jupyter environment, please rerun this cell to show the HTML representation or trust the notebook. <br />On GitHub, the HTML representation is unable to render, please try loading this page with nbviewer.org.</b></div><div class=\"sk-container\" hidden><div class=\"sk-item\"><div class=\"sk-estimator sk-toggleable\"><input class=\"sk-toggleable__control sk-hidden--visually\" id=\"sk-estimator-id-6\" type=\"checkbox\" checked><label for=\"sk-estimator-id-6\" class=\"sk-toggleable__label sk-toggleable__label-arrow\">DecisionTreeClassifier</label><div class=\"sk-toggleable__content\"><pre>DecisionTreeClassifier(class_weight=&#x27;balanced&#x27;, max_depth=10, random_state=42)</pre></div></div></div></div></div>"
      ],
      "text/plain": [
       "DecisionTreeClassifier(class_weight='balanced', max_depth=10, random_state=42)"
      ]
     },
     "execution_count": 32,
     "metadata": {},
     "output_type": "execute_result"
    }
   ],
   "source": [
    "tree_best = joblib.load('BestEstimator.pkl')\n",
    "tree_best.fit(X_train,Y_train)"
   ]
  },
  {
   "cell_type": "code",
   "execution_count": 33,
   "id": "de91cfc0",
   "metadata": {},
   "outputs": [
    {
     "data": {
      "image/png": "[encoded data removed]",
      "text/plain": [
       "<Figure size 432x288 with 1 Axes>"
      ]
     },
     "metadata": {
      "needs_background": "light"
     },
     "output_type": "display_data"
    }
   ],
   "source": [
    "models = [model_under, estimator.best_estimator_,tree_best]\n",
    "model_names = ['KNN_under', 'KNN_best','tree','Tree_best']\n",
    "for model, model_name in zip(models, model_names):\n",
    "    y_pred = model.predict(X_test)\n",
    "    fpr,tpr, _ = roc_curve(Y_test, y_pred)\n",
    "    auc = roc_auc_score(Y_test, y_pred)\n",
    "    lab = model_name + \"(auc: \" + str(round(auc, 2)) + \")\"\n",
    "    plt.plot(fpr, tpr, label=lab)\n",
    "\n",
    "plt.plot([0, 1], [0, 1], label='Random (auc: 0.5)', color='red')\n",
    "plt.title(\"Poređenje modela\")\n",
    "plt.legend()\n",
    "plt.show()"
   ]
  },
  {
   "cell_type": "code",
   "execution_count": 35,
   "id": "67ed888b",
   "metadata": {},
   "outputs": [],
   "source": [
    "def metrics(model, x, y):\n",
    "    y_pred = model.predict(x)\n",
    "    precision = precision_score(y, y_pred)\n",
    "    recall = recall_score(y, y_pred)\n",
    "    accuracy = accuracy_score(y, y_pred)\n",
    "    f1_score1 = f1_score(y, y_pred)\n",
    "    \n",
    "    return precision,recall,accuracy,f1_score1"
   ]
  },
  {
   "cell_type": "code",
   "execution_count": 36,
   "id": "05fccc5c",
   "metadata": {},
   "outputs": [
    {
     "data": {
      "image/png": "[encoded data removed]",
      "text/plain": [
       "<Figure size 432x288 with 1 Axes>"
      ]
     },
     "metadata": {
      "needs_background": "light"
     },
     "output_type": "display_data"
    },
    {
     "data": {
      "image/png": "[encoded data removed]",
      "text/plain": [
       "<Figure size 432x288 with 1 Axes>"
      ]
     },
     "metadata": {
      "needs_background": "light"
     },
     "output_type": "display_data"
    },
    {
     "data": {
      "image/png": "[encoded data removed]",
      "text/plain": [
       "<Figure size 432x288 with 1 Axes>"
      ]
     },
     "metadata": {
      "needs_background": "light"
     },
     "output_type": "display_data"
    },
    {
     "data": {
      "image/png": "[encoded data removed]",
      "text/plain": [
       "<Figure size 432x288 with 1 Axes>"
      ]
     },
     "metadata": {
      "needs_background": "light"
     },
     "output_type": "display_data"
    }
   ],
   "source": [
    "models = ['Model_under', 'tree', 'KNN_best','tree_best']  # Nazivi modela\n",
    "precision1,recall1,accuracy1,f1_score1 = metrics(model_under, X_test, Y_test)\n",
    "precision2,recall2,accuracy2,f1_score2 = metrics(tree, X_test, Y_test)\n",
    "precision3,recall3,accuracy3,f1_score3 = metrics(estimator.best_estimator_, X_test, Y_test)\n",
    "precision4,recall4,accuracy4,f1_score4 = metrics(tree_best, X_test, Y_test)\n",
    "\n",
    "\n",
    "\n",
    "precisions = [precision1, precision2, precision3,precision4]  # Preciznost\n",
    "recalls = [recall1, recall2, recall3,recall4]  # Odziv\n",
    "accuracies = [accuracy1, accuracy2, accuracy3,accuracy4]  # Tacnost\n",
    "f1_scores = [f1_score1, f1_score2, f1_score3,f1_score4]  # F1-mere\n",
    "\n",
    "# Iscrtavanje grafika za preciznost\n",
    "plt.figure()\n",
    "plt.bar(models, precisions)\n",
    "plt.title('Preciznost modela')\n",
    "plt.xlabel('Model')\n",
    "plt.ylabel('Preciznost')\n",
    "\n",
    "# Iscrtavanje grafika za odziv\n",
    "plt.figure()\n",
    "plt.bar(models, recalls)\n",
    "plt.title('Odziv modela')\n",
    "plt.xlabel('Model')\n",
    "plt.ylabel('Odziv')\n",
    "\n",
    "# Iscrtavanje grafika za tačnost\n",
    "plt.figure()\n",
    "plt.bar(models, accuracies)\n",
    "plt.title('Tacnost modela')\n",
    "plt.xlabel('Model')\n",
    "plt.ylabel('Tacnost')\n",
    "\n",
    "# Iscrtavanje grafika za F1-meru\n",
    "plt.figure()\n",
    "plt.bar(models, f1_scores)\n",
    "plt.title('F1-mera modela')\n",
    "plt.xlabel('Model')\n",
    "plt.ylabel('F1-mera')\n",
    "\n",
    "plt.show()"
   ]
  },
  {
   "cell_type": "code",
   "execution_count": null,
   "id": "196c5311",
   "metadata": {},
   "outputs": [],
   "source": []
  },
  {
   "cell_type": "code",
   "execution_count": null,
   "id": "1586ae5a",
   "metadata": {},
   "outputs": [],
   "source": []
  },
  {
   "cell_type": "code",
   "execution_count": null,
   "id": "c8f24235",
   "metadata": {},
   "outputs": [],
   "source": []
  }
 ],
 "metadata": {
  "kernelspec": {
   "display_name": "Python 3 (ipykernel)",
   "language": "python",
   "name": "python3"
  },
  "language_info": {
   "codemirror_mode": {
    "name": "ipython",
    "version": 3
   },
   "file_extension": ".py",
   "mimetype": "text/x-python",
   "name": "python",
   "nbconvert_exporter": "python",
   "pygments_lexer": "ipython3",
   "version": "3.8.10"
  }
 },
 "nbformat": 4,
 "nbformat_minor": 5
}
