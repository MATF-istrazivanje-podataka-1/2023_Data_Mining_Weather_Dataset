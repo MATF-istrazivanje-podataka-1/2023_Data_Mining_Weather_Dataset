{
 "cells": [
  {
   "cell_type": "code",
   "execution_count": null,
   "id": "45645595",
   "metadata": {},
   "outputs": [],
   "source": [
    "import pandas as pd\n",
    "import matplotlib.pyplot as plt\n",
    "import seaborn as sns\n",
    "import numpy as np\n",
    "from sklearn.model_selection import train_test_split\n",
    "from sklearn.tree import DecisionTreeClassifier, plot_tree\n",
    "from sklearn.ensemble import RandomForestClassifier\n",
    "from sklearn.metrics import confusion_matrix\n",
    "from termcolor import colored\n",
    "from sklearn.model_selection import GridSearchCV\n",
    "from sklearn.metrics import classification_report\n",
    "from sklearn.ensemble import RandomForestClassifier\n",
    "import joblib\n",
    "from sklearn.preprocessing import MinMaxScaler,StandardScaler\n",
    "from imblearn.under_sampling import RandomUnderSampler\n"
   ]
  },
  {
   "cell_type": "code",
   "execution_count": null,
   "id": "716e4171",
   "metadata": {},
   "outputs": [],
   "source": [
    "#za stablo ne treba transformisati jer nam je svejedno za granice"
   ]
  },
  {
   "cell_type": "code",
   "execution_count": null,
   "id": "0c938f36",
   "metadata": {},
   "outputs": [],
   "source": [
    "df = pd.read_csv('../../dataset/weatherClean.csv')"
   ]
  },
  {
   "cell_type": "code",
   "execution_count": null,
   "id": "67777973",
   "metadata": {},
   "outputs": [],
   "source": [
    "df.describe(include='all')\n"
   ]
  },
  {
   "cell_type": "code",
   "execution_count": null,
   "id": "5f231765",
   "metadata": {},
   "outputs": [],
   "source": [
    "df.shape"
   ]
  },
  {
   "cell_type": "code",
   "execution_count": null,
   "id": "9391678f",
   "metadata": {},
   "outputs": [],
   "source": [
    "df.isna().any()"
   ]
  },
  {
   "cell_type": "code",
   "execution_count": null,
   "id": "d91d3a79",
   "metadata": {},
   "outputs": [],
   "source": [
    "Y = df['RainTomorrow']\n",
    "X = df.drop('RainTomorrow', axis=1)\n",
    "feature_names = X.columns\n",
    "X.head()"
   ]
  },
  {
   "cell_type": "code",
   "execution_count": null,
   "id": "0a0931ec",
   "metadata": {},
   "outputs": [],
   "source": [
    "X.shape\n"
   ]
  },
  {
   "cell_type": "code",
   "execution_count": null,
   "id": "d7e6ab80",
   "metadata": {},
   "outputs": [],
   "source": [
    "#nemamo balansirane rezultate, pa moramo da koristimo stratifikovanu podelu\n",
    "X_train, X_test, Y_train, Y_test = train_test_split(X, Y, test_size=0.20, stratify=Y, random_state=41)\n",
    "\n",
    "print(X_train.shape)\n",
    "print(X_test.shape)"
   ]
  },
  {
   "cell_type": "markdown",
   "id": "db21fbb5",
   "metadata": {},
   "source": [
    "Outlier"
   ]
  },
  {
   "cell_type": "code",
   "execution_count": null,
   "id": "dc937e5c",
   "metadata": {},
   "outputs": [],
   "source": [
    "def col_plot(df,col_name):\n",
    "    plt.figure(figsize=(20,6))\n",
    "    \n",
    "    plt.subplot(141) \n",
    "    plt.hist(df[col_name], bins = 20)\n",
    "    f=lambda x:(np.sqrt(x) if x>=0 else -np.sqrt(-x))\n",
    "    \n",
    "    plt.axvline(x=df[col_name].mean() + 3*df[col_name].std(),color='red')\n",
    "    plt.axvline(x=df[col_name].mean() - 3*df[col_name].std(),color='red')\n",
    "    plt.xlabel(col_name)\n",
    "    plt.tight_layout\n",
    "    plt.xlabel(\"Histogram\")\n",
    "    plt.ylabel(col_name)\n",
    "\n",
    "    plt.subplot(142)\n",
    "    plt.boxplot(df[col_name])\n",
    "    plt.xlabel(\"IQR=1.5\")\n",
    "\n",
    "\n",
    "    plt.show()\n"
   ]
  },
  {
   "cell_type": "code",
   "execution_count": null,
   "id": "40732679",
   "metadata": {},
   "outputs": [],
   "source": [
    "for i in X.columns:\n",
    "    col_plot(X,i)"
   ]
  },
  {
   "cell_type": "code",
   "execution_count": null,
   "id": "0ba71128",
   "metadata": {},
   "outputs": [],
   "source": []
  },
  {
   "cell_type": "code",
   "execution_count": null,
   "id": "96f06788",
   "metadata": {},
   "outputs": [],
   "source": [
    "def find_boundaries(df, name):\n",
    "    \n",
    "    Q1=df[name].quantile(0.25)\n",
    "    Q3=df[name].quantile(0.75)\n",
    "    IQR=Q3-Q1\n",
    "    lower_boundary = Q1-1.5*IQR\n",
    "    upper_boundary = Q3+1.5*IQR\n",
    "    return lower_boundary, upper_boundary\n"
   ]
  },
  {
   "cell_type": "code",
   "execution_count": null,
   "id": "a502a52c",
   "metadata": {},
   "outputs": [],
   "source": [
    "def outliers(name,df):\n",
    "    lower_rainfall, upper_rainfall = find_boundaries(df, name)\n",
    "    print('Gornja granica', upper_rainfall)\n",
    "    print('Donja granica', lower_rainfall)\n",
    "    outliers_rainfall = np.where(df[name] > upper_rainfall, True,\n",
    "                            np.where(df[name] < lower_rainfall, True, False))\n",
    "\n",
    "    print(outliers_rainfall)\n",
    "    return len(df[outliers_rainfall]), outliers_rainfall\n",
    "\n"
   ]
  },
  {
   "cell_type": "code",
   "execution_count": null,
   "id": "7f40cfa4",
   "metadata": {},
   "outputs": [],
   "source": [
    "l, out = outliers('Evaporation',X_train)\n",
    "X_train = X_train[~(out)]\n",
    "Y_train = Y_train[~(out)]\n",
    "print(len(df))\n",
    "\n",
    "l, out = outliers('WindSpeed9am',X_train)\n",
    "X_train = X_train[~(out)]\n",
    "Y_train = Y_train[~(out)]\n",
    "print(len(df))"
   ]
  },
  {
   "cell_type": "code",
   "execution_count": null,
   "id": "291e632a",
   "metadata": {},
   "outputs": [],
   "source": [
    "X_train.shape"
   ]
  },
  {
   "cell_type": "code",
   "execution_count": null,
   "id": "b852d81e",
   "metadata": {},
   "outputs": [],
   "source": [
    "scaler = StandardScaler()\n",
    "scaler.fit(X_train)\n",
    "X_train = scaler.transform(X_train)\n",
    "X_test = scaler.transform(X_test)"
   ]
  },
  {
   "cell_type": "code",
   "execution_count": null,
   "id": "044d0f1a",
   "metadata": {},
   "outputs": [],
   "source": [
    "Y_train.hist(xlabelsize=15,bins=3,legend=True)\n",
    "        "
   ]
  },
  {
   "cell_type": "markdown",
   "id": "e1c0424b",
   "metadata": {},
   "source": [
    "Model"
   ]
  },
  {
   "cell_type": "code",
   "execution_count": null,
   "id": "448d49b1",
   "metadata": {},
   "outputs": [],
   "source": [
    "#KOD PREUZET SA VEZBI\n",
    "def report(model, x, y, text = \"training\"):\n",
    "    y_pred = model.predict(x)\n",
    "    \n",
    "    print(colored(\"Classification report for model {} on {} data\".format(type(model).__name__, text), \"green\"))\n",
    "    print(\"---------------------------------------------------------------------------------\")\n",
    "    print(classification_report(y, y_pred, zero_division=True))\n",
    "    print(\"---------------------------------------------------------------------------------\")\n",
    "    \n",
    "        \n",
    "    print(colored(\"Confusion matrix for model {} on {} data \".format(type(model).__name__, text), \"green\"))\n",
    "    print(\"---------------------------------------------------------------------------------\")\n",
    "    print(pd.DataFrame(confusion_matrix(y, y_pred), columns=['No', 'Yes'], index=['No', 'Yes']))\n",
    "    print(\"---------------------------------------------------------------------------------\")\n",
    "    \n",
    "    cm_matrix = pd.DataFrame(confusion_matrix(y, y_pred), columns=['Actual Negative:0', 'Actual Positive:1'], \n",
    "                                 index=['Predict Negative:0', 'Predict Positive:1'])\n",
    "\n",
    "    sns.heatmap(cm_matrix, annot=True, fmt='d', cmap='YlGnBu')\n",
    "    \n",
    "\n",
    "def plot_decision_tree(model, feature_names):\n",
    "    plt.figure(figsize=(7, 7))\n",
    "    plot_tree(model, class_names=['Yes', 'No'], feature_names=feature_names, filled=True, fontsize=10)\n",
    "    plt.title(\"Decision tree of depth {} with {} nodes\".format(model.get_depth(), model.get_n_leaves()))\n",
    "\n",
    "    plt.show()\n",
    "    print(\"---------------------------------------------------------------------------------\")\n",
    "    print(colored(\"Parameters of model {}\".format(type(model).__name__), \"green\"))\n",
    "    for k, v in model.get_params().items():\n",
    "        print(colored(k, 'blue'), v)\n",
    "    \n",
    "    print(\"---------------------------------------------------------------------------------\")\n"
   ]
  },
  {
   "cell_type": "markdown",
   "id": "2baf285c",
   "metadata": {},
   "source": [
    "Model stabla bez podesavanja hiperparametara"
   ]
  },
  {
   "cell_type": "code",
   "execution_count": null,
   "id": "76ca8da9",
   "metadata": {},
   "outputs": [],
   "source": [
    "tree = DecisionTreeClassifier(class_weight='balanced')\n",
    "#bez balansiranja acc = 0.64"
   ]
  },
  {
   "cell_type": "code",
   "execution_count": null,
   "id": "b1571ffd",
   "metadata": {},
   "outputs": [],
   "source": [
    "tree.fit(X_train, Y_train) # treninranje modela\n",
    "tree.get_depth()"
   ]
  },
  {
   "cell_type": "code",
   "execution_count": null,
   "id": "f8215628",
   "metadata": {},
   "outputs": [],
   "source": []
  },
  {
   "cell_type": "code",
   "execution_count": null,
   "id": "7953e644",
   "metadata": {},
   "outputs": [],
   "source": [
    "report(tree, X_train, Y_train)"
   ]
  },
  {
   "cell_type": "code",
   "execution_count": null,
   "id": "90c87857",
   "metadata": {},
   "outputs": [],
   "source": [
    "pd.Series(tree.feature_importances_, index=X.columns).plot.barh()\n",
    "plt.title(\"Feature importance\")\n",
    "plt.show()"
   ]
  },
  {
   "cell_type": "code",
   "execution_count": null,
   "id": "19c45384",
   "metadata": {},
   "outputs": [],
   "source": [
    "report(tree, X_test, Y_test,text = \"test\")\n"
   ]
  },
  {
   "cell_type": "code",
   "execution_count": null,
   "id": "44b114d4",
   "metadata": {},
   "outputs": [],
   "source": [
    "def imbalanced_fit(X_train, y_train, X_test, y_test, sampler):\n",
    "    X_resampled, y_resampled = sampler.fit_resample(X_train, y_train)\n",
    "    print(f'X_resampled.shape={X_resampled.shape}')\n",
    "    print(f'y value counts = {y_resampled.value_counts()}')\n",
    "    \n",
    "    \n",
    "    model = DecisionTreeClassifier()\n",
    "    model.fit(X_resampled, y_resampled)\n",
    "    \n",
    "    report(model, X_test,y_test)\n",
    "    \n",
    "    return model"
   ]
  },
  {
   "cell_type": "code",
   "execution_count": null,
   "id": "f8f26aa5",
   "metadata": {},
   "outputs": [],
   "source": [
    "tree_under = imbalanced_fit(X_train, Y_train, X_test, Y_test,RandomUnderSampler())\n",
    "\n"
   ]
  },
  {
   "cell_type": "markdown",
   "id": "902bd752",
   "metadata": {},
   "source": [
    "Podesavanje hiper parametara"
   ]
  },
  {
   "cell_type": "code",
   "execution_count": null,
   "id": "1623b8cc",
   "metadata": {},
   "outputs": [],
   "source": [
    "params = {'criterion': ['gini', 'entropy'],\n",
    "        'max_depth': [3, 7, 11],\n",
    "        'min_samples_split': [2, 5, 10],\n",
    "        'min_samples_leaf': [1, 3, 5],\n",
    "        'random_state': [42]\n",
    "         }"
   ]
  },
  {
   "cell_type": "code",
   "execution_count": null,
   "id": "db59121a",
   "metadata": {},
   "outputs": [],
   "source": [
    "estimator = GridSearchCV(DecisionTreeClassifier(class_weight='balanced'), param_grid=params, cv=3) "
   ]
  },
  {
   "cell_type": "code",
   "execution_count": null,
   "id": "8a9a8349",
   "metadata": {},
   "outputs": [],
   "source": [
    "estimator.fit(X_train, Y_train)\n"
   ]
  },
  {
   "cell_type": "code",
   "execution_count": null,
   "id": "832a8138",
   "metadata": {},
   "outputs": [],
   "source": [
    "estimator.best_params_\n"
   ]
  },
  {
   "cell_type": "code",
   "execution_count": null,
   "id": "f886e2b8",
   "metadata": {},
   "outputs": [],
   "source": [
    "estimator.best_score_\n"
   ]
  },
  {
   "cell_type": "code",
   "execution_count": null,
   "id": "dd01e7be",
   "metadata": {},
   "outputs": [],
   "source": [
    "report(estimator.best_estimator_, X_train, Y_train)\n"
   ]
  },
  {
   "cell_type": "code",
   "execution_count": null,
   "id": "02fd6d3a",
   "metadata": {},
   "outputs": [],
   "source": [
    "report(estimator.best_estimator_, X_test, Y_test, \"test\")\n"
   ]
  },
  {
   "cell_type": "code",
   "execution_count": null,
   "id": "610b360f",
   "metadata": {},
   "outputs": [],
   "source": [
    "pd.Series(estimator.best_estimator_.feature_importances_, index=X.columns).plot.barh()\n",
    "plt.title(\"Feature importance\")\n",
    "plt.show()"
   ]
  },
  {
   "cell_type": "code",
   "execution_count": null,
   "id": "1206cce6",
   "metadata": {},
   "outputs": [],
   "source": [
    "plot_decision_tree(estimator.best_estimator_, feature_names)\n"
   ]
  },
  {
   "cell_type": "markdown",
   "id": "6b3adb37",
   "metadata": {},
   "source": [
    "Slucajne sume"
   ]
  },
  {
   "cell_type": "code",
   "execution_count": null,
   "id": "67e0830d",
   "metadata": {},
   "outputs": [],
   "source": [
    "Forest_model = RandomForestClassifier(random_state=42,class_weight='balanced')\n"
   ]
  },
  {
   "cell_type": "code",
   "execution_count": null,
   "id": "9800a6b6",
   "metadata": {},
   "outputs": [],
   "source": [
    "#param_grid = {\n",
    "#    'n_estimators': [100, 200, 300],\n",
    "#    'max_depth': [None, 5, 10],\n",
    "#'min_samples_split': [2, 5, 10],\n",
    "#    'min_samples_leaf': [1, 2, 4]\n",
    "#}"
   ]
  },
  {
   "cell_type": "code",
   "execution_count": null,
   "id": "6ecad840",
   "metadata": {},
   "outputs": [],
   "source": [
    "#grid_search_RF = GridSearchCV(Forest_model, param_grid, scoring='accuracy', cv=5)\n"
   ]
  },
  {
   "cell_type": "code",
   "execution_count": null,
   "id": "26f6d9b5",
   "metadata": {},
   "outputs": [],
   "source": [
    "Forest_model.fit(X_train, Y_train)\n",
    "#grid_search_RF.fit(X_train,Y_train)"
   ]
  },
  {
   "cell_type": "code",
   "execution_count": null,
   "id": "6b992aaa",
   "metadata": {},
   "outputs": [],
   "source": [
    "report(Forest_model, X_test, Y_test, \"test\")\n"
   ]
  },
  {
   "cell_type": "code",
   "execution_count": null,
   "id": "85719eff",
   "metadata": {},
   "outputs": [],
   "source": []
  },
  {
   "cell_type": "code",
   "execution_count": null,
   "id": "65268c7c",
   "metadata": {},
   "outputs": [],
   "source": [
    "from sklearn.metrics import roc_curve, roc_auc_score\n",
    "models = [tree, estimator.best_estimator_, Forest_model]\n",
    "model_names = ['DecisionTree', 'GridSearchCV', 'RandomForest']\n",
    "for model, model_name in zip(models, model_names):\n",
    "    y_pred = model.predict(X_test)\n",
    "    fpr,tpr, _ = roc_curve(Y_test, y_pred)\n",
    "    auc = roc_auc_score(Y_test, y_pred)\n",
    "    lab = model_name + \"(auc: \" + str(round(auc, 3)) + \")\"\n",
    "    plt.plot(fpr, tpr, label=lab)\n",
    "\n",
    "plt.plot([0, 1], [0, 1], label='Random (auc: 0.5)', color='red')\n",
    "plt.title(\"Poređenje modela\")\n",
    "plt.legend()\n",
    "plt.show()\n"
   ]
  },
  {
   "cell_type": "code",
   "execution_count": null,
   "id": "a12fa3ac",
   "metadata": {},
   "outputs": [],
   "source": [
    "#losa tacnost, popraviti"
   ]
  },
  {
   "cell_type": "code",
   "execution_count": null,
   "id": "c31a2e6f",
   "metadata": {},
   "outputs": [],
   "source": [
    "with open('RandomTreeModel.pkl', 'wb') as file:  \n",
    "    joblib.dump(tree, file)\n",
    "\n",
    "with open('RandomTreeModel.pkl', 'rb') as file:\n",
    "    # Call load method to deserialze\n",
    "    loaded_model = joblib.load(file)\n"
   ]
  },
  {
   "cell_type": "code",
   "execution_count": null,
   "id": "af96f5ae",
   "metadata": {},
   "outputs": [],
   "source": [
    "with open('BestEstimator.pkl', 'wb') as file:  \n",
    "    joblib.dump(estimator.best_estimator_, file)\n",
    "\n",
    "with open('BestEstimator.pkl', 'rb') as file:\n",
    "    # Call load method to deserialze\n",
    "    loaded_model = joblib.load(file)"
   ]
  },
  {
   "cell_type": "code",
   "execution_count": null,
   "id": "f266e958",
   "metadata": {},
   "outputs": [],
   "source": [
    "with open('Forrest.pkl', 'wb') as file:  \n",
    "    joblib.dump(Forest_model, file)\n",
    "\n",
    "with open('Forrest.pkl', 'rb') as file:\n",
    "    # Call load method to deserialze\n",
    "    loaded_model = joblib.load(file)"
   ]
  },
  {
   "cell_type": "code",
   "execution_count": null,
   "id": "c8ba328d",
   "metadata": {},
   "outputs": [],
   "source": []
  },
  {
   "cell_type": "code",
   "execution_count": null,
   "id": "7836b161",
   "metadata": {},
   "outputs": [],
   "source": []
  },
  {
   "cell_type": "code",
   "execution_count": null,
   "id": "da91f5eb",
   "metadata": {},
   "outputs": [],
   "source": []
  }
 ],
 "metadata": {
  "kernelspec": {
   "display_name": "Python 3 (ipykernel)",
   "language": "python",
   "name": "python3"
  },
  "language_info": {
   "codemirror_mode": {
    "name": "ipython",
    "version": 3
   },
   "file_extension": ".py",
   "mimetype": "text/x-python",
   "name": "python",
   "nbconvert_exporter": "python",
   "pygments_lexer": "ipython3",
   "version": "3.8.10"
  }
 },
 "nbformat": 4,
 "nbformat_minor": 5
}
